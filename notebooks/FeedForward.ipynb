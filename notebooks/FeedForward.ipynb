{
 "cells": [
  {
   "cell_type": "markdown",
   "metadata": {
    "colab_type": "text",
    "id": "view-in-github"
   },
   "source": [
    "<a href=\"https://colab.research.google.com/github/tristantoupin/COMP551-KaggleCompetition/blob/master/Untitled1.ipynb\" target=\"_parent\"><img src=\"https://colab.research.google.com/assets/colab-badge.svg\" alt=\"Open In Colab\"/></a>"
   ]
  },
  {
   "cell_type": "code",
   "execution_count": 1,
   "metadata": {
    "colab": {},
    "colab_type": "code",
    "id": "clBKYJJt55bX"
   },
   "outputs": [],
   "source": [
    "import numpy as np\n",
    "import pandas as pd\n",
    "from sklearn.model_selection import train_test_split\n",
    "from sklearn.metrics import accuracy_score"
   ]
  },
  {
   "cell_type": "code",
   "execution_count": 2,
   "metadata": {
    "colab": {},
    "colab_type": "code",
    "id": "PFqQO8xd54Fz"
   },
   "outputs": [],
   "source": [
    "path_to_data = \"../data/train_images.npy\"\n",
    "path_to_labels = \"../data/train_labels.csv\"\n",
    "path_to_test = \"../data/test_images.npy\""
   ]
  },
  {
   "cell_type": "code",
   "execution_count": 3,
   "metadata": {
    "colab": {},
    "colab_type": "code",
    "id": "8wlTquqX6Xeh"
   },
   "outputs": [],
   "source": [
    "def get_data(path_x, path_y):\n",
    "    data = np.load(path_x, encoding = 'bytes')\n",
    "    labels_df = pd.read_csv(path_y)\n",
    "    labels_df.Category = pd.Categorical(labels_df.Category)\n",
    "    y = labels_df.Category.cat.codes.values\n",
    "    X = list(data[:, 1])\n",
    "    return X, y"
   ]
  },
  {
   "cell_type": "code",
   "execution_count": 5,
   "metadata": {
    "colab": {
     "base_uri": "https://localhost:8080/",
     "height": 68
    },
    "colab_type": "code",
    "id": "wcf0s81X59h9",
    "outputId": "e6648401-f90d-4262-a624-6aff5ff4337e"
   },
   "outputs": [
    {
     "name": "stdout",
     "output_type": "stream",
     "text": [
      "Shape of training dataset: 10000\n",
      "Shape of testing dataset: 10000\n",
      "Number of classes: 31\n"
     ]
    }
   ],
   "source": [
    "X, y = get_data(path_to_data, path_to_labels)\n",
    "print(\"Shape of training dataset:\", len(X))\n",
    "X_test = list(np.load(path_to_test, encoding = 'bytes')[:, 1])\n",
    "print(\"Shape of testing dataset:\", len(X_test))\n",
    "unique_classes = set(y)\n",
    "print(\"Number of classes:\", len(unique_classes))"
   ]
  },
  {
   "cell_type": "code",
   "execution_count": 6,
   "metadata": {
    "colab": {},
    "colab_type": "code",
    "id": "usZR0t6W59n2"
   },
   "outputs": [],
   "source": [
    "# parameters\n",
    "learning_rates = [1e-4, 1e-3, 1e-2, 1e-1]\n",
    "nodes = [50, 100, 1000, 10000, 12000]\n",
    "hidden_layers = [1, 2, 3, 4]\n",
    "batch_size = [1/100, 1/10, 1]\n",
    "activation = ['sigmoid', 'tanh', 'relu']"
   ]
  },
  {
   "cell_type": "code",
   "execution_count": 7,
   "metadata": {
    "colab": {},
    "colab_type": "code",
    "id": "amsbdfbdDicA"
   },
   "outputs": [],
   "source": [
    "# X = np.array([[0, 0, 1], [1, 1, 1], [1, 0, 1], [0, 1, 1]])\n",
    "# y = np.array([[0, 1, 1, 0]]).T\n",
    "# unique_classes = (np.unique(y))"
   ]
  },
  {
   "cell_type": "code",
   "execution_count": 56,
   "metadata": {
    "colab": {},
    "colab_type": "code",
    "id": "RPkmboZeDuDu"
   },
   "outputs": [],
   "source": [
    "class NN():\n",
    "    def __init__(self, learning_rate, layers, nodes_per_layer, b_size, activation, patience, random_state = 1234):\n",
    "        np.random.seed(random_state)\n",
    "        n = [nodes_per_layer for i in range(layers)] + [len(unique_classes)]   # Model architecture\n",
    "        \n",
    "        # init params\n",
    "        self.weights = []\n",
    "        self.random_state = random_state\n",
    "        for p, _ in enumerate(n[:-1]):\n",
    "            self.weights.append(2 * np.random.random(tuple(n[p:p + 2])) - 1)        \n",
    "        self.batch_size = b_size\n",
    "        self.activation_fct = activation\n",
    "        self.patience = patience\n",
    "        self.learning_rate = learning_rate\n",
    "        self.accuracies = []\n",
    "\n",
    "\n",
    "    def sigmoid(self, x, deriv = False):\n",
    "        if(deriv==True):\n",
    "            return x*(1-x)\n",
    "        print(type(1/(1+np.exp(-x))))\n",
    "        return 1/(1+np.exp(-x))\n",
    "        \n",
    "        \n",
    "    def predict(self, inputs, test = False):\n",
    "        layers_ = [inputs]\n",
    "        for w in self.weights:\n",
    "            layers_.append(self.sigmoid(np.dot(layers_[-1], w)))\n",
    "        if test:   # if its testing data, return only output of model\n",
    "            return np.argmin(layers_[-1], axis = 1).reshape(len(layers_[-1]), -1)\n",
    "        return layers_\n",
    "    \n",
    "    \n",
    "    def update_weights(self, outputs, layers_):\n",
    "        error = outputs - layers_[-1]\n",
    "        delta = error * self.sigmoid(layers_[-1], deriv = True)\n",
    "        \n",
    "        for c, (l, w) in enumerate(zip((layers_[1:-1][::-1]), (self.weights[::-1]))):\n",
    "            adjustment = layers_[len(self.weights) - c - 1].T.dot(delta) * self.learning_rate\n",
    "            self.weights[len(self.weights) - c - 1] += adjustment\n",
    "            error = delta.dot(w.T)\n",
    "            delta = error * self.sigmoid(l, deriv=True)\n",
    "        \n",
    "        adjustment = layers_[0].T.dot(delta) * self.learning_rate\n",
    "        self.weights[0] += adjustment\n",
    "\n",
    "        return error, delta\n",
    "            \n",
    "    \n",
    "    def train(self, xs_all, ys_all):\n",
    "        epoch = 0\n",
    "        while (True):\n",
    "            epoch += 1\n",
    "\n",
    "            xs, x_val, ys, y_val = train_test_split(xs_all, ys_all, test_size=0.90, random_state = self.random_state)\n",
    "            \n",
    "            # Predict            \n",
    "            layers = self.predict(xs)\n",
    "            \n",
    "            # Get accuracy of model\n",
    "            predictions = np.argmin(layers[-1], axis = 1).reshape(len(layers[-1]), -1)\n",
    "            self.accuracies.append(accuracy_score(ys, predictions))\n",
    "            \n",
    "            # Update Weights\n",
    "            ys_one_hot = np.array(np.eye(len(unique_classes))[ys])\n",
    "            l, w = self.update_weights(ys_one_hot, layers)                \n",
    "\n",
    "            if not(epoch % 2):\n",
    "                print(\"Epoch #\" + str(epoch))\n",
    "                print(\"Training accuracy:\", self.accuracies[-1])\n",
    "                preds_val = self.predict(x_val, test = True)\n",
    "                acc = accuracy_score(y_val, preds_val)\n",
    "                print(\"Test accuracy:\", acc)\n",
    "                if acc < self.accuracies[-1] * 0.9:\n",
    "                    return\n",
    "\n",
    "\n"
   ]
  },
  {
   "cell_type": "code",
   "execution_count": 57,
   "metadata": {
    "colab": {},
    "colab_type": "code",
    "id": "Tdyr7DPgE8Rf"
   },
   "outputs": [],
   "source": [
    "nn = NN(1e-2, 2, 10000, 256, 'sigmoid', 3)"
   ]
  },
  {
   "cell_type": "code",
   "execution_count": null,
   "metadata": {
    "colab": {
     "base_uri": "https://localhost:8080/",
     "height": 453
    },
    "colab_type": "code",
    "id": "ux87ZK2HE_k7",
    "outputId": "6c71d753-4b76-4cd4-9b85-b4ddc980cc5b"
   },
   "outputs": [],
   "source": [
    "nn.train(X, y)"
   ]
  },
  {
   "cell_type": "code",
   "execution_count": 26,
   "metadata": {
    "colab": {},
    "colab_type": "code",
    "id": "SLZ3fPY-FSiF"
   },
   "outputs": [
    {
     "name": "stdout",
     "output_type": "stream",
     "text": [
      "[25 20 23 ..., 21  3 13]\n"
     ]
    }
   ],
   "source": []
  },
  {
   "cell_type": "code",
   "execution_count": null,
   "metadata": {},
   "outputs": [],
   "source": []
  }
 ],
 "metadata": {
  "colab": {
   "include_colab_link": true,
   "name": "Untitled1.ipynb",
   "provenance": [],
   "version": "0.3.2"
  },
  "kernelspec": {
   "display_name": "Python 3",
   "language": "python",
   "name": "python3"
  }
 },
 "nbformat": 4,
 "nbformat_minor": 1
}
