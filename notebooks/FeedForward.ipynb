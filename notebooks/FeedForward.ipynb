{
 "cells": [
  {
   "cell_type": "markdown",
   "metadata": {
    "colab_type": "text",
    "id": "view-in-github"
   },
   "source": [
    "<a href=\"https://colab.research.google.com/github/tristantoupin/COMP551-KaggleCompetition/blob/master/Untitled1.ipynb\" target=\"_parent\"><img src=\"https://colab.research.google.com/assets/colab-badge.svg\" alt=\"Open In Colab\"/></a>"
   ]
  },
  {
   "cell_type": "code",
   "execution_count": 3,
   "metadata": {
    "colab": {},
    "colab_type": "code",
    "id": "clBKYJJt55bX"
   },
   "outputs": [],
   "source": [
    "import numpy as np\n",
    "import pandas as pd\n",
    "from sklearn.model_selection import train_test_split"
   ]
  },
  {
   "cell_type": "code",
   "execution_count": 4,
   "metadata": {
    "colab": {},
    "colab_type": "code",
    "id": "PFqQO8xd54Fz"
   },
   "outputs": [],
   "source": [
    "path_to_data = \"../data/train_images.npy\"\n",
    "path_to_labels = \"../data/train_labels.csv\"\n",
    "path_to_test = \"../data/test_images.npy\""
   ]
  },
  {
   "cell_type": "code",
   "execution_count": 5,
   "metadata": {
    "colab": {},
    "colab_type": "code",
    "id": "8wlTquqX6Xeh"
   },
   "outputs": [],
   "source": [
    "def get_data(path_x, path_y):\n",
    "    data = np.load(path_x, encoding = 'bytes')\n",
    "    labels_df = pd.read_csv(path_y)\n",
    "    labels_df.Category = pd.Categorical(labels_df.Category)\n",
    "    y = labels_df.Category.cat.codes.values\n",
    "    X = list(data[:, 1])\n",
    "    return X, y"
   ]
  },
  {
   "cell_type": "code",
   "execution_count": null,
   "metadata": {
    "colab": {
     "base_uri": "https://localhost:8080/",
     "height": 68
    },
    "colab_type": "code",
    "id": "wcf0s81X59h9",
    "outputId": "e6648401-f90d-4262-a624-6aff5ff4337e"
   },
   "outputs": [],
   "source": [
    "X_train, y_train = get_data(path_to_data, path_to_labels)\n",
    "print(\"Shape of training dataset:\", len(X_train))\n",
    "X_test = list(np.load(path_to_test, encoding = 'bytes')[:, 1])\n",
    "print(\"Shape of testing dataset:\", len(X_test))\n",
    "unique_classes = set(y_train)\n",
    "print(\"Number of classes:\", len(unique_classes))"
   ]
  },
  {
   "cell_type": "code",
   "execution_count": 7,
   "metadata": {
    "colab": {},
    "colab_type": "code",
    "id": "lInNPPBi59kk"
   },
   "outputs": [],
   "source": [
    "x_tr, x_val, y_tr, y_val = train_test_split(X_train, y_train, test_size=0.10, random_state=42)"
   ]
  },
  {
   "cell_type": "code",
   "execution_count": 8,
   "metadata": {
    "colab": {},
    "colab_type": "code",
    "id": "usZR0t6W59n2"
   },
   "outputs": [],
   "source": [
    "# parameters\n",
    "learning_rates = [1e-4, 1e-3, 1e-2, 1e-1]\n",
    "nodes = [50, 100, 1000, 10000, 12000]\n",
    "hidden_layers = [1, 2, 3, 4]\n",
    "batch_size = [1/100, 1/10, 1]\n",
    "activation = ['sigmoid', 'tanh', 'relu']"
   ]
  },
  {
   "cell_type": "code",
   "execution_count": 61,
   "metadata": {
    "colab": {},
    "colab_type": "code",
    "id": "amsbdfbdDicA"
   },
   "outputs": [],
   "source": [
    "X = np.array([[0, 0, 1], [1, 1, 1], [1, 0, 1], [0, 1, 1]])\n",
    "y = np.array([[0, 1, 1, 0]]).T\n",
    "unique_classes = (np.unique(y))"
   ]
  },
  {
   "cell_type": "code",
   "execution_count": 62,
   "metadata": {
    "colab": {},
    "colab_type": "code",
    "id": "RPkmboZeDuDu"
   },
   "outputs": [],
   "source": [
    "class NN():\n",
    "    def __init__(self, learning_rate, layers, nodes_per_layer, b_size, activation, random_state = 1234):\n",
    "        np.random.seed(random_state)\n",
    "\n",
    "        n = [nodes_per_layer for i in range(layers)] + [len(unique_classes)]\n",
    "        print(n)\n",
    "        # init params\n",
    "        self.weights_0 = 2 * np.random.random(tuple(n[:2])) - 1\n",
    "        self.weights_1 = 2 * np.random.random(tuple(n[1:3])) - 1\n",
    "        self.weights_2 = 2 * np.random.random(tuple(n[2:])) - 1\n",
    "        self.batch_size = b_size\n",
    "        self.activation_fct = activation\n",
    "        self.learning_rate = learning_rate\n",
    "\n",
    "\n",
    "    def sigmoid(self, x, deriv = False):\n",
    "        if(deriv==True):\n",
    "            return x*(1-x)\n",
    "        return 1/(1+np.exp(-x))\n",
    "    \n",
    "\n",
    "    def train(self, xs, ys):\n",
    "        for i in range(5000):\n",
    "            # Predict\n",
    "            l0 = xs\n",
    "            l1 = self.sigmoid(np.dot(l0, self.weights_0))\n",
    "            l2 = self.sigmoid(np.dot(l1, self.weights_1))\n",
    "            l3 = self.sigmoid(np.dot(l2, self.weights_2))\n",
    "            \n",
    "            # Calculate the error            \n",
    "            l3_error = ys - l3\n",
    "            l3_delta = l3_error * self.sigmoid(l3, deriv = True)\n",
    "            \n",
    "            l2_error = l3_delta.dot(self.weights_2.T)\n",
    "            l2_delta = l2_error * self.sigmoid(l2, deriv=True)\n",
    "\n",
    "            l1_error = l2_delta.dot(self.weights_1.T)\n",
    "            l1_delta = l1_error * self.sigmoid(l1, deriv=True)\n",
    "    \n",
    "            \n",
    "            self.weights_2 += l2.T.dot(l3_delta) * self.learning_rate\n",
    "            self.weights_1 += l1.T.dot(l2_delta) * self.learning_rate\n",
    "            self.weights_0 += l0.T.dot(l1_delta) * self.learning_rate\n",
    "                \n",
    "\n",
    "            if not(i % 1000):\n",
    "                print(i)\n",
    "                print(np.mean(np.abs(l3_error)))\n",
    "\n",
    "\n"
   ]
  },
  {
   "cell_type": "code",
   "execution_count": 65,
   "metadata": {
    "colab": {},
    "colab_type": "code",
    "id": "Tdyr7DPgE8Rf"
   },
   "outputs": [
    {
     "name": "stdout",
     "output_type": "stream",
     "text": [
      "[3, 3, 3, 2]\n"
     ]
    }
   ],
   "source": [
    "nn = NN(1, 3, 3, 256, 'sigmoid')"
   ]
  },
  {
   "cell_type": "code",
   "execution_count": 66,
   "metadata": {
    "colab": {
     "base_uri": "https://localhost:8080/",
     "height": 453
    },
    "colab_type": "code",
    "id": "ux87ZK2HE_k7",
    "outputId": "6c71d753-4b76-4cd4-9b85-b4ddc980cc5b"
   },
   "outputs": [
    {
     "name": "stdout",
     "output_type": "stream",
     "text": [
      "0\n",
      "0.50191447186\n",
      "1000\n",
      "0.0155112766056\n",
      "2000\n",
      "0.0102718021156\n",
      "3000\n",
      "0.00818253691336\n",
      "4000\n",
      "0.00699159186549\n"
     ]
    }
   ],
   "source": [
    "nn.train(X, y)"
   ]
  },
  {
   "cell_type": "code",
   "execution_count": 0,
   "metadata": {
    "colab": {},
    "colab_type": "code",
    "id": "SLZ3fPY-FSiF"
   },
   "outputs": [],
   "source": []
  }
 ],
 "metadata": {
  "colab": {
   "include_colab_link": true,
   "name": "Untitled1.ipynb",
   "provenance": [],
   "version": "0.3.2"
  },
  "kernelspec": {
   "display_name": "Python 3",
   "language": "python",
   "name": "python3"
  },
  "language_info": {
   "codemirror_mode": {
    "name": "ipython",
    "version": 3
   },
   "file_extension": ".py",
   "mimetype": "text/x-python",
   "name": "python",
   "nbconvert_exporter": "python",
   "pygments_lexer": "ipython3",
   "version": "3.6.2"
  }
 },
 "nbformat": 4,
 "nbformat_minor": 1
}
