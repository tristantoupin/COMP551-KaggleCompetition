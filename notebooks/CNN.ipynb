{
  "nbformat": 4,
  "nbformat_minor": 0,
  "metadata": {
    "colab": {
      "name": "Copy of Copy of CNN.ipynb",
      "version": "0.3.2",
      "provenance": []
    },
    "kernelspec": {
      "name": "python3",
      "display_name": "Python 3"
    },
    "accelerator": "GPU"
  },
  "cells": [
    {
      "metadata": {
        "id": "sDGhFDtdP_0K",
        "colab_type": "code",
        "colab": {}
      },
      "cell_type": "code",
      "source": [
        "import numpy as np\n",
        "import cv2\n",
        "from matplotlib import pyplot as plt\n",
        "import pandas as pd\n",
        "from sklearn.model_selection import train_test_split, GridSearchCV\n",
        "from sklearn import svm, metrics\n",
        "from sklearn.utils import class_weight\n",
        "from tqdm import tqdm_notebook as tqdm\n",
        "import random\n",
        "from sklearn.dummy import DummyClassifier\n",
        "from scipy import stats\n",
        "import math\n",
        "from skimage import morphology, img_as_ubyte, img_as_bool\n",
        "from tensorflow.keras.applications import MobileNet\n",
        "from tensorflow.keras.optimizers import Adam\n",
        "from tensorflow.keras.metrics import categorical_accuracy, top_k_categorical_accuracy, categorical_crossentropy\n",
        "from tensorflow.keras.callbacks import EarlyStopping, ReduceLROnPlateau, ModelCheckpoint"
      ],
      "execution_count": 0,
      "outputs": []
    },
    {
      "metadata": {
        "id": "Nt0OtpF6WXXa",
        "colab_type": "code",
        "outputId": "41bb91b2-c2f1-48bf-d342-e1ed0f7ce826",
        "colab": {
          "base_uri": "https://localhost:8080/",
          "height": 122
        }
      },
      "cell_type": "code",
      "source": [
        "from google.colab import drive\n",
        "drive.mount('/content/gdrive')"
      ],
      "execution_count": 3,
      "outputs": [
        {
          "output_type": "stream",
          "text": [
            "Go to this URL in a browser: https://accounts.google.com/o/oauth2/auth?client_id=947318989803-6bn6qk8qdgf4n4g3pfee6491hc0brc4i.apps.googleusercontent.com&redirect_uri=urn%3Aietf%3Awg%3Aoauth%3A2.0%3Aoob&scope=email%20https%3A%2F%2Fwww.googleapis.com%2Fauth%2Fdocs.test%20https%3A%2F%2Fwww.googleapis.com%2Fauth%2Fdrive%20https%3A%2F%2Fwww.googleapis.com%2Fauth%2Fdrive.photos.readonly%20https%3A%2F%2Fwww.googleapis.com%2Fauth%2Fpeopleapi.readonly&response_type=code\n",
            "\n",
            "Enter your authorization code:\n",
            "··········\n",
            "Mounted at /content/gdrive\n"
          ],
          "name": "stdout"
        }
      ]
    },
    {
      "metadata": {
        "id": "MuK3fO6SP_0Q",
        "colab_type": "code",
        "colab": {}
      },
      "cell_type": "code",
      "source": [
        "# path_to_data = \"gdrive/My Drive/data/train_images.npy\"\n",
        "# path_to_labels = \"gdrive/My Drive/data/train_labels.csv\"\n",
        "# path_to_test = \"gdrive/My Drive/data/test_images.npy\"\n",
        "\n",
        "path_broad = \"gdrive/My Drive/Mcgill/U4/Fall 2018/COMP 551/kaggle/data/\"\n",
        "path_to_data = path_broad + \"train_images.npy\"\n",
        "path_to_labels = path_broad + \"train_labels.csv\"\n",
        "path_to_test = path_broad + \"test_images.npy\""
      ],
      "execution_count": 0,
      "outputs": []
    },
    {
      "metadata": {
        "id": "uA-4nzfSP_0X",
        "colab_type": "code",
        "colab": {}
      },
      "cell_type": "code",
      "source": [
        "def plot_images(list_of_images, max_col = 4):\n",
        "    n = len(list_of_images)\n",
        "    if n == 1:\n",
        "        plt.imshow(list_of_images[0], cmap=\"gray\"); plt.axis('off'); plt.show()\n",
        "    else:\n",
        "        # get number of columns and rows required\n",
        "        r, c = 1, n\n",
        "        if n > max_col:\n",
        "            c = max_col\n",
        "            r = int(math.ceil(n/max_col))\n",
        "    \n",
        "        fig = plt.figure(figsize=(20, max_col * r))\n",
        "        for i, (img,name) in enumerate(list_of_images):\n",
        "            ax = fig.add_subplot(r, c, (i+1))\n",
        "            ax.set_title(str(name))\n",
        "            ax.axis('off')\n",
        "            ax.imshow(img, cmap=\"gray\")"
      ],
      "execution_count": 0,
      "outputs": []
    },
    {
      "metadata": {
        "id": "TZRn5lD6P_0Z",
        "colab_type": "code",
        "colab": {}
      },
      "cell_type": "code",
      "source": [
        "def get_data(path_x, path_y):\n",
        "    data = np.load(path_x, encoding = 'bytes')\n",
        "    labels_df = pd.read_csv(path_y)\n",
        "    labels_df.Category = pd.Categorical(labels_df.Category)\n",
        "    y = labels_df.Category.cat.codes.values\n",
        "    X = np.array(data[:, 1])\n",
        "    X_actual = np.array(data[:, 1])\n",
        "    for c, i in enumerate(X):\n",
        "        ret,thresh_img = cv2.threshold(i,157,255,cv2.THRESH_BINARY)\n",
        "        X[c] = thresh_img\n",
        "    return X, y, X_actual"
      ],
      "execution_count": 0,
      "outputs": []
    },
    {
      "metadata": {
        "id": "VqFde78xP_0d",
        "colab_type": "code",
        "outputId": "2d2c48d0-5b64-437d-d338-77049fb1ef69",
        "colab": {
          "base_uri": "https://localhost:8080/",
          "height": 68
        }
      },
      "cell_type": "code",
      "source": [
        "X_noisy, y, X_noisy_actual = get_data(path_to_data, path_to_labels)\n",
        "print(\"Shape of training dataset:\", len(X_noisy))\n",
        "X_test = list(np.load(path_to_test, encoding = 'bytes')[:, 1])\n",
        "print(\"Shape of testing dataset:\", len(X_test))\n",
        "unique_classes = set(y)\n",
        "print(\"Number of classes:\", len(unique_classes))"
      ],
      "execution_count": 7,
      "outputs": [
        {
          "output_type": "stream",
          "text": [
            "Shape of training dataset: 10000\n",
            "Shape of testing dataset: 10000\n",
            "Number of classes: 31\n"
          ],
          "name": "stdout"
        }
      ]
    },
    {
      "metadata": {
        "id": "yuYutIyW2m1u",
        "colab_type": "code",
        "colab": {}
      },
      "cell_type": "code",
      "source": [
        ""
      ],
      "execution_count": 0,
      "outputs": []
    },
    {
      "metadata": {
        "id": "8jSbDS_A2myb",
        "colab_type": "code",
        "colab": {}
      },
      "cell_type": "code",
      "source": [
        ""
      ],
      "execution_count": 0,
      "outputs": []
    },
    {
      "metadata": {
        "id": "XaWCkNvd2mqT",
        "colab_type": "code",
        "colab": {}
      },
      "cell_type": "code",
      "source": [
        ""
      ],
      "execution_count": 0,
      "outputs": []
    },
    {
      "metadata": {
        "id": "DgbenH5VqOnE",
        "colab_type": "code",
        "colab": {
          "base_uri": "https://localhost:8080/",
          "height": 317
        },
        "outputId": "9c4a6ac3-4935-4e0b-c91a-c8daac326769"
      },
      "cell_type": "code",
      "source": [
        "print(X_noisy[4].shape)\n",
        "nn = [(X_noisy[4].reshape(100,100),\"e\") , (np.array(X_noisy[432]).reshape(100,100),\"e\") , (np.array(X_noisy[433]).reshape(100,100),\"e\")]\n",
        "plot_images(nn)"
      ],
      "execution_count": 66,
      "outputs": [
        {
          "output_type": "stream",
          "text": [
            "(10000, 1)\n"
          ],
          "name": "stdout"
        },
        {
          "output_type": "display_data",
          "data": {
            "image/png": "[encoded data removed]",
            "text/plain": [
              "<matplotlib.figure.Figure at 0x7f679d964710>"
            ]
          },
          "metadata": {
            "tags": []
          }
        }
      ]
    },
    {
      "metadata": {
        "id": "RXrUpdFhP_0q",
        "colab_type": "code",
        "colab": {}
      },
      "cell_type": "code",
      "source": [
        "from scipy import ndimage\n",
        "\n",
        "\n",
        "def remove_noise(filledImg, min_size = 500):\n",
        "    min_blobs, min_val = ndimage.label(filledImg)\n",
        "    \n",
        "    for i in range(10,60):\n",
        "        clean_img = morphology.remove_small_objects(img_as_bool(filledImg), i)\n",
        "        blobs, number_of_blobs = ndimage.label(clean_img)\n",
        "        if number_of_blobs < min_val:\n",
        "            min_val = number_of_blobs\n",
        "            if min_val == 1:\n",
        "                return clean_img\n",
        "  \n",
        "    return clean_img"
      ],
      "execution_count": 0,
      "outputs": []
    },
    {
      "metadata": {
        "id": "TqY99QqOP_1a",
        "colab_type": "code",
        "outputId": "83c8d389-87dd-4e94-ef64-a9dffbce8b46",
        "colab": {
          "base_uri": "https://localhost:8080/",
          "height": 437
        }
      },
      "cell_type": "code",
      "source": [
        "X = []\n",
        "for c, (img, label) in enumerate(zip(X_noisy, y)):\n",
        "    img = img.reshape(100, 100)\n",
        "    X.append(remove_noise(img, 100).flatten()) \n",
        "    \n",
        "test= X[0]\n",
        "test.resize(100,100)\n",
        "plot_images(np.array([test]))"
      ],
      "execution_count": 9,
      "outputs": [
        {
          "output_type": "stream",
          "text": [
            "/usr/local/lib/python3.6/dist-packages/skimage/util/dtype.py:118: UserWarning: Possible sign loss when converting negative image of type float64 to positive image of type bool.\n",
            "  .format(dtypeobj_in, dtypeobj_out))\n",
            "/usr/local/lib/python3.6/dist-packages/skimage/util/dtype.py:122: UserWarning: Possible precision loss when converting from float64 to bool\n",
            "  .format(dtypeobj_in, dtypeobj_out))\n"
          ],
          "name": "stderr"
        },
        {
          "output_type": "display_data",
          "data": {
            "image/png": "[encoded data removed]",
            "text/plain": [
              "<matplotlib.figure.Figure at 0x7fc4cadec9e8>"
            ]
          },
          "metadata": {
            "tags": []
          }
        }
      ]
    },
    {
      "metadata": {
        "id": "0eXGh_j9P_1g",
        "colab_type": "code",
        "colab": {}
      },
      "cell_type": "code",
      "source": [
        "for c, img in enumerate(X):\n",
        "    X[c] = np.array(img)\n",
        "X = np.array(X)"
      ],
      "execution_count": 0,
      "outputs": []
    },
    {
      "metadata": {
        "id": "WcisegQtcDf4",
        "colab_type": "code",
        "colab": {}
      },
      "cell_type": "code",
      "source": [
        "def crop_center(img,cropx,cropy):\n",
        "    y,x = img.shape\n",
        "    startx = x//2-(cropx//2)\n",
        "    starty = y//2-(cropy//2)    \n",
        "    return img[starty:starty+cropy,startx:startx+cropx]\n",
        "  \n",
        "def pad_image(img, pad_t, pad_r, pad_b, pad_l):\n",
        "    \"\"\"Add padding of zeroes to an image.\n",
        "    Add padding to an array image.\n",
        "    :param img:\n",
        "    :param pad_t:\n",
        "    :param pad_r:\n",
        "    :param pad_b:\n",
        "    :param pad_l:\n",
        "    \"\"\"\n",
        "    height, width = img.shape\n",
        "\n",
        "    # Adding padding to the left side.\n",
        "    pad_left = np.zeros((height, pad_l), dtype = np.int)\n",
        "    img = np.concatenate((pad_left, img), axis = 1)\n",
        "\n",
        "    # Adding padding to the top.\n",
        "    pad_up = np.zeros((pad_t, pad_l + width))\n",
        "    img = np.concatenate((pad_up, img), axis = 0)\n",
        "\n",
        "    # Adding padding to the right.\n",
        "    pad_right = np.zeros((height + pad_t, pad_r))\n",
        "    img = np.concatenate((img, pad_right), axis = 1)\n",
        "\n",
        "    # Adding padding to the bottom\n",
        "    pad_bottom = np.zeros((pad_b, pad_l + width + pad_r))\n",
        "    img = np.concatenate((img, pad_bottom), axis = 0)\n",
        "\n",
        "    return img\n",
        "\n",
        "def center_image(X_array, X_noise, show_image=False):\n",
        "  \"\"\"Return a centered image.\n",
        "  :param img:\n",
        "  \"\"\"\n",
        "  cropped = []\n",
        "  for i in range(len(X_array)):\n",
        "    img = X_array[i].copy()\n",
        "    img.resize(100,100)\n",
        "    \n",
        "    img_noise = X_noise[i].copy()\n",
        "    img_noise.resize(100,100)\n",
        "\n",
        "    blobs, min_val = ndimage.label(img)\n",
        "    unique, counts = np.unique(blobs, return_counts=True)\n",
        "    if len(unique) > 1:\n",
        "      id = np.argpartition(counts.flatten(), -2)[-2]\n",
        "      img[blobs != id] = 0    \n",
        "       \n",
        "        \n",
        "    if show_image:\n",
        "      print('actual')\n",
        "      plot_images(np.array([img_noise]))\n",
        "      print('denoised')\n",
        "      plot_images(np.array([img]))\n",
        "      \n",
        "#     cropBox = (min(non_empty_rows), max(non_empty_rows), min(non_empty_columns), max(non_empty_columns))\n",
        "#     y1, y2 = cropBox[0], cropBox[1]\n",
        "#     x1, x2 = cropBox[2], cropBox[3]\n",
        "#     cropped_image = img[y1:y2, x1:x2]\n",
        "\n",
        "    col_sum = np.where(np.sum(img, axis=0) > 0)\n",
        "    row_sum = np.where(np.sum(img, axis=1) > 0)\n",
        "    if len(row_sum[0]) == 0:\n",
        "      y1, y2 = 0, 0\n",
        " \n",
        "    else:\n",
        "      y1, y2 = row_sum[0][0]-5, row_sum[0][-1]+5\n",
        "      if y1 < 0:\n",
        "        y1 = 0\n",
        "      if y2 > img.shape[0]:\n",
        "        y2 = img.shape[0]-1\n",
        "    \n",
        "    if len(col_sum[0]) == 0:\n",
        "      x1, x2 = 0, 0 \n",
        "    else:\n",
        "      x1, x2 = col_sum[0][0]-5, col_sum[0][-1]+5\n",
        "      if x1 < 0:\n",
        "        x1 = 0\n",
        "      if x2 >= img.shape[1]:\n",
        "        x2 = img.shape[1]-1\n",
        "\n",
        "    cropped_image = img_noise[y1:y2, x1:x2]\n",
        "    cropped_denoised = img[y1:y2, x1:x2]\n",
        "    zero_axis_fill = (img.shape[0] - cropped_image.shape[0])\n",
        "    one_axis_fill = (img.shape[1] - cropped_image.shape[1])\n",
        "\n",
        "    top = zero_axis_fill // 2\n",
        "    bottom = zero_axis_fill - top\n",
        "    left = one_axis_fill // 2\n",
        "    right = one_axis_fill - left\n",
        "\n",
        "    padded_image = pad_image(cropped_image, top, left, bottom, right)\n",
        "    padded_denoised = pad_image(cropped_denoised, top, left, bottom, right)\n",
        "    cropped_image = crop_center(padded_image, 40, 40)\n",
        "    cropped_denoised = crop_center(padded_denoised, 40, 40)\n",
        "    if show_image:\n",
        "      print('cropped actual')\n",
        "      plot_images(np.array([cropped_image]))\n",
        "      print('cropped denoised')\n",
        "      plot_images(np.array([cropped_denoised]))\n",
        "\n",
        "    cropped.append(np.array(cropped_image.flatten()))\n",
        "    \n",
        "    \n",
        "\n",
        "  cropped = np.array(cropped)\n",
        "  \n",
        "  return cropped\n",
        "\n",
        "X_cropped = center_image(X, X_noisy_actual, show_image=False)"
      ],
      "execution_count": 0,
      "outputs": []
    },
    {
      "metadata": {
        "id": "6M9TjWENZP2E",
        "colab_type": "code",
        "colab": {
          "base_uri": "https://localhost:8080/",
          "height": 347
        },
        "outputId": "4b88785b-2ddc-48f6-c6fd-1f5c58313550"
      },
      "cell_type": "code",
      "source": [
        "plot_images([X_cropped[2322].reshape(40,40)])"
      ],
      "execution_count": 12,
      "outputs": [
        {
          "output_type": "display_data",
          "data": {
            "image/png": "[encoded data removed]",
            "text/plain": [
              "<matplotlib.figure.Figure at 0x7fc4caa8e6a0>"
            ]
          },
          "metadata": {
            "tags": []
          }
        }
      ]
    },
    {
      "metadata": {
        "id": "o8G62U9lP_11",
        "colab_type": "code",
        "colab": {}
      },
      "cell_type": "code",
      "source": [
        "# X_cropped = crop_image(X, size_of_crop=32)\n",
        "unique, counts = np.unique(y[:9488], return_counts=True)"
      ],
      "execution_count": 0,
      "outputs": []
    },
    {
      "metadata": {
        "id": "uie8uf3PQ6lK",
        "colab_type": "code",
        "colab": {}
      },
      "cell_type": "code",
      "source": [
        "from __future__ import print_function\n",
        "import keras\n",
        "from keras.models import Sequential\n",
        "from keras.layers import Dense, Dropout, Flatten\n",
        "from keras.layers import Conv2D, MaxPooling2D\n",
        "from keras import backend as K\n",
        "from keras.callbacks import ReduceLROnPlateau\n",
        "from keras.preprocessing.image import ImageDataGenerator"
      ],
      "execution_count": 0,
      "outputs": []
    },
    {
      "metadata": {
        "id": "srOB_s-zRD5Q",
        "colab_type": "code",
        "colab": {
          "base_uri": "https://localhost:8080/",
          "height": 68
        },
        "outputId": "c1de4277-98d2-494f-8331-006bec37da50"
      },
      "cell_type": "code",
      "source": [
        "batch_size = 64\n",
        "num_classes = 31\n",
        "epochs = 40\n",
        "\n",
        "# input image dimensions\n",
        "img_rows, img_cols = 40, 40\n",
        "# the data, split between train and val sets\n",
        "(x_train, y_train), (x_val, y_val) = (X_cropped[:9488],y[:9488]), (X_cropped[9488:],y[9488:]) \n",
        "if K.image_data_format() == 'channels_first':\n",
        "    x_train = x_train.reshape(x_train.shape[0], 1, img_rows, img_cols)\n",
        "    x_val = x_val.reshape(x_val.shape[0], 1, img_rows, img_cols)\n",
        "    input_shape = (1, img_rows, img_cols)\n",
        "else:\n",
        "    x_train = x_train.reshape(x_train.shape[0], img_rows, img_cols, 1)\n",
        "    x_val = x_val.reshape(x_val.shape[0], img_rows, img_cols, 1)\n",
        "    input_shape = (img_rows, img_cols, 1)\n",
        "x_train = x_train.astype('float32')\n",
        "x_val = x_val.astype('float32')\n",
        "\n",
        "\n",
        "x_train /= 255\n",
        "x_val /= 255\n",
        "\n",
        "print('x_train shape:', x_train.shape)\n",
        "print(x_train.shape[0], 'train samples')\n",
        "print(x_val.shape[0], 'val samples')"
      ],
      "execution_count": 30,
      "outputs": [
        {
          "output_type": "stream",
          "text": [
            "x_train shape: (9488, 40, 40, 1)\n",
            "9488 train samples\n",
            "512 val samples\n"
          ],
          "name": "stdout"
        }
      ]
    },
    {
      "metadata": {
        "id": "h4xkhRKcku6J",
        "colab_type": "code",
        "outputId": "ed77234e-479f-4023-b892-33b2ae47ce0e",
        "colab": {
          "base_uri": "https://localhost:8080/",
          "height": 1533
        }
      },
      "cell_type": "code",
      "source": [
        "# convert class vectors to binary class matrices\n",
        "y_train = keras.utils.to_categorical(y_train, num_classes)\n",
        "y_val = keras.utils.to_categorical(y_val, num_classes)\n",
        "print(y_train[3])\n",
        "datagen = ImageDataGenerator(\n",
        "    rotation_range=20,\n",
        "    width_shift_range=0.2,\n",
        "    height_shift_range=0.2,\n",
        "    shear_range=0.1,\n",
        "    zoom_range=0.1,\n",
        "    horizontal_flip=True,\n",
        "    fill_mode='nearest')\n",
        "\n",
        "datagen.fit(x_train)\n",
        "val_datagen = ImageDataGenerator()\n",
        "val_datagen.fit(x_val)\n",
        "train_generator = datagen.flow(x_train, y_train, batch_size=batch_size)\n",
        "validation_generator = val_datagen.flow(x_val, y_val, batch_size=batch_size)\n",
        "\n",
        "model = Sequential()\n",
        "model.add(Conv2D(32, (3, 3), activation='relu',input_shape=input_shape))\n",
        "model.add(Conv2D(32, (3, 3), activation='relu'))\n",
        "model.add(MaxPooling2D(pool_size=(2, 2)))\n",
        "model.add(Dropout(0.25))\n",
        "\n",
        "model.add(Conv2D(64, (3, 3), padding='same', activation='relu'))\n",
        "model.add(Conv2D(64, (3, 3), activation='relu'))\n",
        "model.add(MaxPooling2D(pool_size=(2, 2)))\n",
        "model.add(Dropout(0.25))\n",
        "\n",
        "model.add(Conv2D(128, (3, 3), padding='same', activation='relu'))\n",
        "model.add(Conv2D(128, (3, 3), activation='relu'))\n",
        "model.add(MaxPooling2D(pool_size=(2, 2)))\n",
        "model.add(Dropout(0.25))\n",
        "\n",
        "model.add(Flatten())\n",
        "model.add(Dense(512, activation='relu'))\n",
        "model.add(Dropout(0.5))\n",
        "model.add(Dense(num_classes, activation='softmax'))\n",
        "\n",
        "optimizer = keras.optimizers.Nadam(lr=0.002,\n",
        "                  beta_1=0.9,\n",
        "                  beta_2=0.999,\n",
        "                  epsilon=1e-08,\n",
        "                  schedule_decay=0.004)\n",
        "\n",
        "# optimizer = keras.optimizers.Nadam(lr=0.002,\n",
        "#                   beta_1=0.9,\n",
        "#                   beta_2=0.999,\n",
        "#                   epsilon=None,\n",
        "#                   schedule_decay=0.004)\n",
        "\n",
        "# Set our optimizer and loss function (similar settings to our CAE approach)\n",
        "model.compile(loss = keras.losses.categorical_crossentropy,\n",
        "            optimizer = optimizer,\n",
        "            metrics = ['categorical_accuracy'])\n",
        "\n",
        "checkpoint = ModelCheckpoint('best.hdf5', monitor='val_categorical_accuracy', verbose=1, save_best_only=True, mode='max')\n",
        "\n",
        "\n",
        "callbacks = [\n",
        "    ReduceLROnPlateau(monitor='val_categorical_accuracy', \n",
        "                      factor=0.1, patience=5,\n",
        "                      min_delta=0.0001, mode='auto',\n",
        "                      cooldown=0, verbose=1, \n",
        "                      min_lr=0),\n",
        "#     checkpoint\n",
        "]\n",
        "hist_cnn = model.fit_generator(train_generator,\n",
        "          steps_per_epoch= 14000 // batch_size,\n",
        "          epochs=epochs,\n",
        "          verbose=1, \n",
        "          validation_data=(x_val, y_val),\n",
        "          callbacks = callbacks,\n",
        "          )\n",
        "\n",
        "\n",
        "score = model.evaluate(x_val, y_val, verbose=0)\n",
        "print('Test loss:', score[0])\n",
        "print('Test accuracy:', score[1])"
      ],
      "execution_count": 31,
      "outputs": [
        {
          "output_type": "stream",
          "text": [
            "[1. 0. 0. 0. 0. 0. 0. 0. 0. 0. 0. 0. 0. 0. 0. 0. 0. 0. 0. 0. 0. 0. 0. 0.\n",
            " 0. 0. 0. 0. 0. 0. 0.]\n",
            "Epoch 1/40\n",
            "218/218 [==============================] - 10s 47ms/step - loss: 3.3518 - categorical_accuracy: 0.0631 - val_loss: 3.0683 - val_categorical_accuracy: 0.1152\n",
            "Epoch 2/40\n",
            "218/218 [==============================] - 9s 41ms/step - loss: 3.0071 - categorical_accuracy: 0.1310 - val_loss: 2.4272 - val_categorical_accuracy: 0.2754\n",
            "Epoch 3/40\n",
            "218/218 [==============================] - 9s 43ms/step - loss: 2.5549 - categorical_accuracy: 0.2607 - val_loss: 2.1261 - val_categorical_accuracy: 0.3535\n",
            "Epoch 4/40\n",
            "218/218 [==============================] - 9s 43ms/step - loss: 2.2679 - categorical_accuracy: 0.3443 - val_loss: 1.8087 - val_categorical_accuracy: 0.4355\n",
            "Epoch 5/40\n",
            "218/218 [==============================] - 9s 42ms/step - loss: 2.0511 - categorical_accuracy: 0.4080 - val_loss: 1.7157 - val_categorical_accuracy: 0.4844\n",
            "Epoch 6/40\n",
            "218/218 [==============================] - 9s 43ms/step - loss: 1.9140 - categorical_accuracy: 0.4468 - val_loss: 1.4563 - val_categorical_accuracy: 0.5918\n",
            "Epoch 7/40\n",
            "218/218 [==============================] - 9s 43ms/step - loss: 1.8118 - categorical_accuracy: 0.4888 - val_loss: 1.3791 - val_categorical_accuracy: 0.6152\n",
            "Epoch 8/40\n",
            "218/218 [==============================] - 9s 43ms/step - loss: 1.7599 - categorical_accuracy: 0.4995 - val_loss: 1.3430 - val_categorical_accuracy: 0.6465\n",
            "Epoch 9/40\n",
            "218/218 [==============================] - 9s 42ms/step - loss: 1.6716 - categorical_accuracy: 0.5281 - val_loss: 1.2538 - val_categorical_accuracy: 0.6699\n",
            "Epoch 10/40\n",
            "218/218 [==============================] - 9s 42ms/step - loss: 1.6008 - categorical_accuracy: 0.5458 - val_loss: 1.1715 - val_categorical_accuracy: 0.6699\n",
            "Epoch 11/40\n",
            "218/218 [==============================] - 9s 42ms/step - loss: 1.5667 - categorical_accuracy: 0.5586 - val_loss: 1.2021 - val_categorical_accuracy: 0.6777\n",
            "Epoch 12/40\n",
            "218/218 [==============================] - 9s 43ms/step - loss: 1.5265 - categorical_accuracy: 0.5691 - val_loss: 1.1562 - val_categorical_accuracy: 0.6699\n",
            "Epoch 13/40\n",
            "218/218 [==============================] - 9s 42ms/step - loss: 1.5004 - categorical_accuracy: 0.5745 - val_loss: 1.1072 - val_categorical_accuracy: 0.6875\n",
            "Epoch 14/40\n",
            "218/218 [==============================] - 9s 42ms/step - loss: 1.4461 - categorical_accuracy: 0.5895 - val_loss: 1.1117 - val_categorical_accuracy: 0.6953\n",
            "Epoch 15/40\n",
            "218/218 [==============================] - 9s 42ms/step - loss: 1.4214 - categorical_accuracy: 0.5973 - val_loss: 1.0315 - val_categorical_accuracy: 0.7246\n",
            "Epoch 16/40\n",
            "218/218 [==============================] - 9s 42ms/step - loss: 1.4066 - categorical_accuracy: 0.6013 - val_loss: 1.0294 - val_categorical_accuracy: 0.7070\n",
            "Epoch 17/40\n",
            "218/218 [==============================] - 9s 42ms/step - loss: 1.4016 - categorical_accuracy: 0.6063 - val_loss: 1.0554 - val_categorical_accuracy: 0.7207\n",
            "Epoch 18/40\n",
            "218/218 [==============================] - 9s 42ms/step - loss: 1.3852 - categorical_accuracy: 0.6075 - val_loss: 1.0591 - val_categorical_accuracy: 0.7227\n",
            "Epoch 19/40\n",
            "218/218 [==============================] - 9s 42ms/step - loss: 1.3653 - categorical_accuracy: 0.6111 - val_loss: 0.9827 - val_categorical_accuracy: 0.7520\n",
            "Epoch 20/40\n",
            "218/218 [==============================] - 9s 42ms/step - loss: 1.3379 - categorical_accuracy: 0.6199 - val_loss: 0.9985 - val_categorical_accuracy: 0.7383\n",
            "Epoch 21/40\n",
            "218/218 [==============================] - 9s 42ms/step - loss: 1.3145 - categorical_accuracy: 0.6258 - val_loss: 0.9762 - val_categorical_accuracy: 0.7441\n",
            "Epoch 22/40\n",
            "218/218 [==============================] - 9s 42ms/step - loss: 1.3150 - categorical_accuracy: 0.6272 - val_loss: 1.0370 - val_categorical_accuracy: 0.7207\n",
            "Epoch 23/40\n",
            "218/218 [==============================] - 9s 42ms/step - loss: 1.3104 - categorical_accuracy: 0.6328 - val_loss: 0.9557 - val_categorical_accuracy: 0.7422\n",
            "Epoch 24/40\n",
            "218/218 [==============================] - 9s 42ms/step - loss: 1.2875 - categorical_accuracy: 0.6356 - val_loss: 0.9651 - val_categorical_accuracy: 0.7207\n",
            "\n",
            "Epoch 00024: ReduceLROnPlateau reducing learning rate to 0.00020000000949949026.\n",
            "Epoch 25/40\n",
            "218/218 [==============================] - 9s 41ms/step - loss: 1.2455 - categorical_accuracy: 0.6472 - val_loss: 0.9539 - val_categorical_accuracy: 0.7520\n",
            "Epoch 26/40\n",
            "218/218 [==============================] - 9s 42ms/step - loss: 1.1889 - categorical_accuracy: 0.6598 - val_loss: 0.9592 - val_categorical_accuracy: 0.7559\n",
            "Epoch 27/40\n",
            "218/218 [==============================] - 9s 41ms/step - loss: 1.1799 - categorical_accuracy: 0.6652 - val_loss: 0.9575 - val_categorical_accuracy: 0.7578\n",
            "Epoch 28/40\n",
            "218/218 [==============================] - 9s 41ms/step - loss: 1.1756 - categorical_accuracy: 0.6684 - val_loss: 0.9436 - val_categorical_accuracy: 0.7559\n",
            "Epoch 29/40\n",
            "218/218 [==============================] - 9s 41ms/step - loss: 1.1781 - categorical_accuracy: 0.6667 - val_loss: 0.9219 - val_categorical_accuracy: 0.7559\n",
            "Epoch 30/40\n",
            "218/218 [==============================] - 9s 42ms/step - loss: 1.1369 - categorical_accuracy: 0.6785 - val_loss: 0.9241 - val_categorical_accuracy: 0.7559\n",
            "Epoch 31/40\n",
            "218/218 [==============================] - 9s 41ms/step - loss: 1.1511 - categorical_accuracy: 0.6702 - val_loss: 0.9323 - val_categorical_accuracy: 0.7637\n",
            "Epoch 32/40\n",
            "218/218 [==============================] - 9s 41ms/step - loss: 1.1562 - categorical_accuracy: 0.6710 - val_loss: 0.9151 - val_categorical_accuracy: 0.7676\n",
            "Epoch 33/40\n",
            "218/218 [==============================] - 9s 41ms/step - loss: 1.1374 - categorical_accuracy: 0.6798 - val_loss: 0.9188 - val_categorical_accuracy: 0.7578\n",
            "Epoch 34/40\n",
            "218/218 [==============================] - 9s 41ms/step - loss: 1.1319 - categorical_accuracy: 0.6767 - val_loss: 0.9108 - val_categorical_accuracy: 0.7617\n",
            "Epoch 35/40\n",
            "218/218 [==============================] - 9s 42ms/step - loss: 1.1275 - categorical_accuracy: 0.6798 - val_loss: 0.9162 - val_categorical_accuracy: 0.7500\n",
            "Epoch 36/40\n",
            "218/218 [==============================] - 9s 42ms/step - loss: 1.1272 - categorical_accuracy: 0.6797 - val_loss: 0.9117 - val_categorical_accuracy: 0.7676\n",
            "Epoch 37/40\n",
            "218/218 [==============================] - 9s 41ms/step - loss: 1.1329 - categorical_accuracy: 0.6762 - val_loss: 0.9067 - val_categorical_accuracy: 0.7539\n",
            "\n",
            "Epoch 00037: ReduceLROnPlateau reducing learning rate to 2.0000000949949027e-05.\n",
            "Epoch 38/40\n",
            "218/218 [==============================] - 9s 41ms/step - loss: 1.1237 - categorical_accuracy: 0.6796 - val_loss: 0.9050 - val_categorical_accuracy: 0.7637\n",
            "Epoch 39/40\n",
            "218/218 [==============================] - 9s 41ms/step - loss: 1.1074 - categorical_accuracy: 0.6813 - val_loss: 0.9073 - val_categorical_accuracy: 0.7617\n",
            "Epoch 40/40\n",
            "218/218 [==============================] - 9s 41ms/step - loss: 1.1017 - categorical_accuracy: 0.6898 - val_loss: 0.9027 - val_categorical_accuracy: 0.7656\n",
            "Test loss: 0.9026718325912952\n",
            "Test accuracy: 0.765625\n"
          ],
          "name": "stdout"
        }
      ]
    },
    {
      "metadata": {
        "id": "e-IlMf9nE_0m",
        "colab_type": "code",
        "colab": {
          "base_uri": "https://localhost:8080/",
          "height": 680
        },
        "outputId": "fc712f9f-0f80-46f1-8215-10987c9ccdd9"
      },
      "cell_type": "code",
      "source": [
        "model.summary()"
      ],
      "execution_count": 32,
      "outputs": [
        {
          "output_type": "stream",
          "text": [
            "_________________________________________________________________\n",
            "Layer (type)                 Output Shape              Param #   \n",
            "=================================================================\n",
            "conv2d_13 (Conv2D)           (None, 38, 38, 32)        320       \n",
            "_________________________________________________________________\n",
            "conv2d_14 (Conv2D)           (None, 36, 36, 32)        9248      \n",
            "_________________________________________________________________\n",
            "max_pooling2d_7 (MaxPooling2 (None, 18, 18, 32)        0         \n",
            "_________________________________________________________________\n",
            "dropout_9 (Dropout)          (None, 18, 18, 32)        0         \n",
            "_________________________________________________________________\n",
            "conv2d_15 (Conv2D)           (None, 18, 18, 64)        18496     \n",
            "_________________________________________________________________\n",
            "conv2d_16 (Conv2D)           (None, 16, 16, 64)        36928     \n",
            "_________________________________________________________________\n",
            "max_pooling2d_8 (MaxPooling2 (None, 8, 8, 64)          0         \n",
            "_________________________________________________________________\n",
            "dropout_10 (Dropout)         (None, 8, 8, 64)          0         \n",
            "_________________________________________________________________\n",
            "conv2d_17 (Conv2D)           (None, 8, 8, 128)         73856     \n",
            "_________________________________________________________________\n",
            "conv2d_18 (Conv2D)           (None, 6, 6, 128)         147584    \n",
            "_________________________________________________________________\n",
            "max_pooling2d_9 (MaxPooling2 (None, 3, 3, 128)         0         \n",
            "_________________________________________________________________\n",
            "dropout_11 (Dropout)         (None, 3, 3, 128)         0         \n",
            "_________________________________________________________________\n",
            "flatten_3 (Flatten)          (None, 1152)              0         \n",
            "_________________________________________________________________\n",
            "dense_5 (Dense)              (None, 512)               590336    \n",
            "_________________________________________________________________\n",
            "dropout_12 (Dropout)         (None, 512)               0         \n",
            "_________________________________________________________________\n",
            "dense_6 (Dense)              (None, 31)                15903     \n",
            "=================================================================\n",
            "Total params: 892,671\n",
            "Trainable params: 892,671\n",
            "Non-trainable params: 0\n",
            "_________________________________________________________________\n"
          ],
          "name": "stdout"
        }
      ]
    },
    {
      "metadata": {
        "id": "FMOdo4C4FS3w",
        "colab_type": "code",
        "colab": {
          "base_uri": "https://localhost:8080/",
          "height": 393
        },
        "outputId": "55791c83-63fe-4d7f-c0f1-915ac06b151c"
      },
      "cell_type": "code",
      "source": [
        "plt.figure(1)  \n",
        "plt.plot(hist_cnn.history['categorical_accuracy'])  \n",
        "plt.plot(hist_cnn.history['val_categorical_accuracy'])  \n",
        "plt.title('MobileNet accuracy')  \n",
        "plt.ylabel('accuracy')  \n",
        "plt.xlabel('epoch')  \n",
        "plt.legend(['train', 'val'], loc='upper left')  \n",
        "plt.show() \n",
        "plt.savefig(\"cnn_acc\")"
      ],
      "execution_count": 33,
      "outputs": [
        {
          "output_type": "display_data",
          "data": {
            "image/png": "[encoded data removed]",
            "text/plain": [
              "<matplotlib.figure.Figure at 0x7fc4ad1d1358>"
            ]
          },
          "metadata": {
            "tags": []
          }
        },
        {
          "output_type": "display_data",
          "data": {
            "text/plain": [
              "<matplotlib.figure.Figure at 0x7fc4ac681128>"
            ]
          },
          "metadata": {
            "tags": []
          }
        }
      ]
    },
    {
      "metadata": {
        "id": "Q0Jz49X3VWpA",
        "colab_type": "code",
        "colab": {
          "base_uri": "https://localhost:8080/",
          "height": 393
        },
        "outputId": "adca30cc-6941-49bc-9f32-fade48b57c7c"
      },
      "cell_type": "code",
      "source": [
        "plt.figure(1)  \n",
        "plt.plot(hist_cnn.history['loss'])  \n",
        "plt.plot(hist_cnn.history['val_loss'])  \n",
        "plt.title('MobileNet loss')  \n",
        "plt.ylabel('loss')  \n",
        "plt.xlabel('epoch')  \n",
        "plt.legend(['train', 'val'], loc='lower left')  \n",
        "plt.show() \n",
        "plt.savefig(\"cnn_loss\")"
      ],
      "execution_count": 34,
      "outputs": [
        {
          "output_type": "display_data",
          "data": {
            "image/png": "[encoded data removed]",
            "text/plain": [
              "<matplotlib.figure.Figure at 0x7fc4ad2515f8>"
            ]
          },
          "metadata": {
            "tags": []
          }
        },
        {
          "output_type": "display_data",
          "data": {
            "text/plain": [
              "<matplotlib.figure.Figure at 0x7fc4ac609fd0>"
            ]
          },
          "metadata": {
            "tags": []
          }
        }
      ]
    },
    {
      "metadata": {
        "id": "ldA0n91xrQ7G",
        "colab_type": "code",
        "outputId": "3ea8bcd6-9ad6-488e-ccb0-b10bdd19eba6",
        "colab": {
          "base_uri": "https://localhost:8080/",
          "height": 3896
        }
      },
      "cell_type": "code",
      "source": [
        "from tensorflow.keras.applications import MobileNet\n",
        "from tensorflow.keras.optimizers import Adam\n",
        "from tensorflow.keras.metrics import categorical_accuracy, top_k_categorical_accuracy, categorical_crossentropy\n",
        "from tensorflow.keras.callbacks import EarlyStopping, ReduceLROnPlateau, ModelCheckpoint\n",
        "\n",
        "\n",
        "def top_3_accuracy(y_true, y_pred):\n",
        "    return top_k_categorical_accuracy(y_true, y_pred, k=3)\n",
        "  \n",
        "  \n",
        "batch_size = 64\n",
        "num_classes = 31\n",
        "epochs = 100\n",
        "\n",
        "# input image dimensions\n",
        "img_rows, img_cols = 40, 40\n",
        "# the data, split between train and val sets\n",
        "(x_train, y_train), (x_val, y_val) = (X_cropped[:9488],y[:9488]), (X_cropped[9488:],y[9488:]) \n",
        "if K.image_data_format() == 'channels_first':\n",
        "    x_train = x_train.reshape(x_train.shape[0], 1, img_rows, img_cols)\n",
        "    x_val = x_val.reshape(x_val.shape[0], 1, img_rows, img_cols)\n",
        "    input_shape = (1, img_rows, img_cols)\n",
        "else:\n",
        "    x_train = x_train.reshape(x_train.shape[0], img_rows, img_cols, 1)\n",
        "    x_val = x_val.reshape(x_val.shape[0], img_rows, img_cols, 1)\n",
        "    input_shape = (img_rows, img_cols, 1)\n",
        "x_train = x_train.astype('float32')\n",
        "x_val = x_val.astype('float32')\n",
        "\n",
        "x_train /= 255\n",
        "x_val /= 244\n",
        "\n",
        "print('x_train shape:', x_train.shape)\n",
        "print(x_train.shape[0], 'train samples')\n",
        "print(x_val.shape[0], 'val samples')\n",
        "\n",
        "# convert class vectors to binary class matrices\n",
        "y_train = keras.utils.to_categorical(y_train, num_classes)\n",
        "y_val = keras.utils.to_categorical(y_val, num_classes)\n",
        "print(y_train[3])\n",
        "datagen = ImageDataGenerator(\n",
        "        rotation_range=0,\n",
        "        width_shift_range=0.2,\n",
        "        height_shift_range=0.2,\n",
        "        shear_range=0.2,\n",
        "        zoom_range=0.2,\n",
        "        horizontal_flip=True,\n",
        "        fill_mode='nearest')\n",
        "\n",
        "datagen.fit(x_train)\n",
        "val_datagen = ImageDataGenerator()\n",
        "val_datagen.fit(x_val)\n",
        "train_generator = datagen.flow(x_train, y_train, batch_size=batch_size)\n",
        "validation_generator = val_datagen.flow(x_val, y_val, batch_size=batch_size)\n",
        "\n",
        "model_mn = MobileNet(input_shape=(img_rows, img_cols, 1), alpha=1., weights=None, classes=num_classes)\n",
        "model_mn.compile(optimizer=Adam(lr=0.002), loss='categorical_crossentropy',\n",
        "              metrics=[categorical_crossentropy, categorical_accuracy, top_3_accuracy])\n",
        "\n",
        "\n",
        "\n",
        "callbacks = [\n",
        "    ReduceLROnPlateau(monitor='val_categorical_accuracy', factor=0.5, patience=5,\n",
        "                      min_delta=0.005, mode='max', cooldown=3, verbose=1)\n",
        "]\n",
        "\n",
        "hist_mn = model_mn.fit_generator(\n",
        "    train_generator, steps_per_epoch= 14000 // batch_size,\n",
        "    epochs=epochs,\n",
        "    verbose=1,\n",
        "    validation_data=(x_val, y_val),\n",
        "    callbacks = callbacks\n",
        ")\n",
        "\n",
        "score = model_mn.evaluate(x_val, y_val, verbose=0)\n",
        "print('Test loss:', score[0])\n",
        "print('Test accuracy:', score[1])"
      ],
      "execution_count": 35,
      "outputs": [
        {
          "output_type": "stream",
          "text": [
            "x_train shape: (9488, 40, 40, 1)\n",
            "9488 train samples\n",
            "512 val samples\n",
            "[1. 0. 0. 0. 0. 0. 0. 0. 0. 0. 0. 0. 0. 0. 0. 0. 0. 0. 0. 0. 0. 0. 0. 0.\n",
            " 0. 0. 0. 0. 0. 0. 0.]\n",
            "Epoch 1/100\n",
            "218/218 [==============================] - 22s 101ms/step - loss: 3.3076 - categorical_crossentropy: 3.3076 - categorical_accuracy: 0.1187 - top_3_accuracy: 0.2857 - val_loss: 3.4483 - val_categorical_crossentropy: 3.4483 - val_categorical_accuracy: 0.0273 - val_top_3_accuracy: 0.1250\n",
            "Epoch 2/100\n",
            "218/218 [==============================] - 16s 72ms/step - loss: 2.8521 - categorical_crossentropy: 2.8521 - categorical_accuracy: 0.1894 - top_3_accuracy: 0.4224 - val_loss: 3.4821 - val_categorical_crossentropy: 3.4821 - val_categorical_accuracy: 0.0488 - val_top_3_accuracy: 0.1133\n",
            "Epoch 3/100\n",
            "218/218 [==============================] - 16s 73ms/step - loss: 2.6518 - categorical_crossentropy: 2.6518 - categorical_accuracy: 0.2450 - top_3_accuracy: 0.5113 - val_loss: 2.9803 - val_categorical_crossentropy: 2.9803 - val_categorical_accuracy: 0.1445 - val_top_3_accuracy: 0.3203\n",
            "Epoch 4/100\n",
            "218/218 [==============================] - 16s 73ms/step - loss: 2.6644 - categorical_crossentropy: 2.6644 - categorical_accuracy: 0.2603 - top_3_accuracy: 0.5210 - val_loss: 3.9198 - val_categorical_crossentropy: 3.9198 - val_categorical_accuracy: 0.0977 - val_top_3_accuracy: 0.2324\n",
            "Epoch 5/100\n",
            "218/218 [==============================] - 16s 74ms/step - loss: 2.5382 - categorical_crossentropy: 2.5382 - categorical_accuracy: 0.2863 - top_3_accuracy: 0.5631 - val_loss: 4.2226 - val_categorical_crossentropy: 4.2226 - val_categorical_accuracy: 0.1543 - val_top_3_accuracy: 0.3496\n",
            "Epoch 6/100\n",
            "218/218 [==============================] - 16s 74ms/step - loss: 2.5704 - categorical_crossentropy: 2.5704 - categorical_accuracy: 0.2994 - top_3_accuracy: 0.5712 - val_loss: 4.6321 - val_categorical_crossentropy: 4.6321 - val_categorical_accuracy: 0.0840 - val_top_3_accuracy: 0.2324\n",
            "Epoch 7/100\n",
            "218/218 [==============================] - 16s 74ms/step - loss: 2.6975 - categorical_crossentropy: 2.6975 - categorical_accuracy: 0.2625 - top_3_accuracy: 0.5217 - val_loss: 14.4696 - val_categorical_crossentropy: 14.4696 - val_categorical_accuracy: 0.0195 - val_top_3_accuracy: 0.0625\n",
            "Epoch 8/100\n",
            "218/218 [==============================] - 16s 73ms/step - loss: 2.4933 - categorical_crossentropy: 2.4933 - categorical_accuracy: 0.3045 - top_3_accuracy: 0.5719 - val_loss: 3.9540 - val_categorical_crossentropy: 3.9540 - val_categorical_accuracy: 0.2090 - val_top_3_accuracy: 0.4434\n",
            "Epoch 9/100\n",
            "218/218 [==============================] - 16s 74ms/step - loss: 2.2143 - categorical_crossentropy: 2.2143 - categorical_accuracy: 0.3589 - top_3_accuracy: 0.6288 - val_loss: 2.5775 - val_categorical_crossentropy: 2.5775 - val_categorical_accuracy: 0.3242 - val_top_3_accuracy: 0.5723\n",
            "Epoch 10/100\n",
            "218/218 [==============================] - 16s 74ms/step - loss: 2.0756 - categorical_crossentropy: 2.0756 - categorical_accuracy: 0.3897 - top_3_accuracy: 0.6574 - val_loss: 2.2492 - val_categorical_crossentropy: 2.2492 - val_categorical_accuracy: 0.3574 - val_top_3_accuracy: 0.6602\n",
            "Epoch 11/100\n",
            "218/218 [==============================] - 16s 74ms/step - loss: 1.9854 - categorical_crossentropy: 1.9854 - categorical_accuracy: 0.4130 - top_3_accuracy: 0.6818 - val_loss: 2.1255 - val_categorical_crossentropy: 2.1255 - val_categorical_accuracy: 0.3867 - val_top_3_accuracy: 0.6777\n",
            "Epoch 12/100\n",
            "218/218 [==============================] - 16s 74ms/step - loss: 1.9121 - categorical_crossentropy: 1.9121 - categorical_accuracy: 0.4399 - top_3_accuracy: 0.6972 - val_loss: 2.1083 - val_categorical_crossentropy: 2.1083 - val_categorical_accuracy: 0.3965 - val_top_3_accuracy: 0.6445\n",
            "Epoch 13/100\n",
            "218/218 [==============================] - 16s 73ms/step - loss: 1.8598 - categorical_crossentropy: 1.8598 - categorical_accuracy: 0.4508 - top_3_accuracy: 0.7048 - val_loss: 2.0953 - val_categorical_crossentropy: 2.0953 - val_categorical_accuracy: 0.4180 - val_top_3_accuracy: 0.6484\n",
            "Epoch 14/100\n",
            "218/218 [==============================] - 16s 74ms/step - loss: 1.8028 - categorical_crossentropy: 1.8028 - categorical_accuracy: 0.4674 - top_3_accuracy: 0.7237 - val_loss: 1.8871 - val_categorical_crossentropy: 1.8871 - val_categorical_accuracy: 0.4688 - val_top_3_accuracy: 0.7070\n",
            "Epoch 15/100\n",
            "218/218 [==============================] - 16s 75ms/step - loss: 1.7760 - categorical_crossentropy: 1.7760 - categorical_accuracy: 0.4832 - top_3_accuracy: 0.7277 - val_loss: 2.0040 - val_categorical_crossentropy: 2.0040 - val_categorical_accuracy: 0.4492 - val_top_3_accuracy: 0.6699\n",
            "Epoch 16/100\n",
            "218/218 [==============================] - 17s 76ms/step - loss: 1.7305 - categorical_crossentropy: 1.7305 - categorical_accuracy: 0.4926 - top_3_accuracy: 0.7355 - val_loss: 1.9705 - val_categorical_crossentropy: 1.9705 - val_categorical_accuracy: 0.4590 - val_top_3_accuracy: 0.6895\n",
            "Epoch 17/100\n",
            "218/218 [==============================] - 16s 73ms/step - loss: 1.6821 - categorical_crossentropy: 1.6821 - categorical_accuracy: 0.5106 - top_3_accuracy: 0.7446 - val_loss: 2.3613 - val_categorical_crossentropy: 2.3613 - val_categorical_accuracy: 0.3848 - val_top_3_accuracy: 0.5859\n",
            "Epoch 18/100\n",
            "218/218 [==============================] - 16s 74ms/step - loss: 1.6365 - categorical_crossentropy: 1.6365 - categorical_accuracy: 0.5226 - top_3_accuracy: 0.7580 - val_loss: 1.5733 - val_categorical_crossentropy: 1.5733 - val_categorical_accuracy: 0.5781 - val_top_3_accuracy: 0.7715\n",
            "Epoch 19/100\n",
            "218/218 [==============================] - 16s 73ms/step - loss: 1.6009 - categorical_crossentropy: 1.6009 - categorical_accuracy: 0.5370 - top_3_accuracy: 0.7643 - val_loss: 1.7159 - val_categorical_crossentropy: 1.7159 - val_categorical_accuracy: 0.5371 - val_top_3_accuracy: 0.7559\n",
            "Epoch 20/100\n",
            "218/218 [==============================] - 16s 74ms/step - loss: 1.5557 - categorical_crossentropy: 1.5557 - categorical_accuracy: 0.5489 - top_3_accuracy: 0.7732 - val_loss: 1.6986 - val_categorical_crossentropy: 1.6986 - val_categorical_accuracy: 0.5449 - val_top_3_accuracy: 0.7461\n",
            "Epoch 21/100\n",
            "218/218 [==============================] - 16s 74ms/step - loss: 1.5138 - categorical_crossentropy: 1.5138 - categorical_accuracy: 0.5658 - top_3_accuracy: 0.7789 - val_loss: 1.8952 - val_categorical_crossentropy: 1.8952 - val_categorical_accuracy: 0.4902 - val_top_3_accuracy: 0.7090\n",
            "Epoch 22/100\n",
            "218/218 [==============================] - 16s 73ms/step - loss: 1.5145 - categorical_crossentropy: 1.5145 - categorical_accuracy: 0.5617 - top_3_accuracy: 0.7823 - val_loss: 2.2853 - val_categorical_crossentropy: 2.2853 - val_categorical_accuracy: 0.3730 - val_top_3_accuracy: 0.5996\n",
            "Epoch 23/100\n",
            "217/218 [============================>.] - ETA: 0s - loss: 1.4773 - categorical_crossentropy: 1.4773 - categorical_accuracy: 0.5716 - top_3_accuracy: 0.7905\n",
            "Epoch 00023: ReduceLROnPlateau reducing learning rate to 0.0010000000474974513.\n",
            "218/218 [==============================] - 17s 76ms/step - loss: 1.4774 - categorical_crossentropy: 1.4774 - categorical_accuracy: 0.5715 - top_3_accuracy: 0.7904 - val_loss: 1.7135 - val_categorical_crossentropy: 1.7135 - val_categorical_accuracy: 0.5293 - val_top_3_accuracy: 0.7520\n",
            "Epoch 24/100\n",
            "218/218 [==============================] - 16s 74ms/step - loss: 1.3697 - categorical_crossentropy: 1.3697 - categorical_accuracy: 0.6081 - top_3_accuracy: 0.8087 - val_loss: 1.3337 - val_categorical_crossentropy: 1.3337 - val_categorical_accuracy: 0.6309 - val_top_3_accuracy: 0.8125\n",
            "Epoch 25/100\n",
            "218/218 [==============================] - 16s 73ms/step - loss: 1.3397 - categorical_crossentropy: 1.3397 - categorical_accuracy: 0.6115 - top_3_accuracy: 0.8122 - val_loss: 1.4510 - val_categorical_crossentropy: 1.4510 - val_categorical_accuracy: 0.5957 - val_top_3_accuracy: 0.7969\n",
            "Epoch 26/100\n",
            "218/218 [==============================] - 16s 74ms/step - loss: 1.3036 - categorical_crossentropy: 1.3036 - categorical_accuracy: 0.6233 - top_3_accuracy: 0.8186 - val_loss: 1.6190 - val_categorical_crossentropy: 1.6190 - val_categorical_accuracy: 0.5625 - val_top_3_accuracy: 0.7520\n",
            "Epoch 27/100\n",
            "218/218 [==============================] - 16s 74ms/step - loss: 1.2796 - categorical_crossentropy: 1.2796 - categorical_accuracy: 0.6355 - top_3_accuracy: 0.8293 - val_loss: 1.2363 - val_categorical_crossentropy: 1.2363 - val_categorical_accuracy: 0.6621 - val_top_3_accuracy: 0.8203\n",
            "Epoch 28/100\n",
            "218/218 [==============================] - 16s 74ms/step - loss: 1.2757 - categorical_crossentropy: 1.2757 - categorical_accuracy: 0.6335 - top_3_accuracy: 0.8251 - val_loss: 1.4234 - val_categorical_crossentropy: 1.4234 - val_categorical_accuracy: 0.6191 - val_top_3_accuracy: 0.7969\n",
            "Epoch 29/100\n",
            "218/218 [==============================] - 16s 75ms/step - loss: 1.2642 - categorical_crossentropy: 1.2642 - categorical_accuracy: 0.6380 - top_3_accuracy: 0.8285 - val_loss: 1.3879 - val_categorical_crossentropy: 1.3879 - val_categorical_accuracy: 0.6055 - val_top_3_accuracy: 0.8164\n",
            "Epoch 30/100\n",
            "218/218 [==============================] - 16s 73ms/step - loss: 1.2572 - categorical_crossentropy: 1.2572 - categorical_accuracy: 0.6390 - top_3_accuracy: 0.8281 - val_loss: 1.5763 - val_categorical_crossentropy: 1.5763 - val_categorical_accuracy: 0.5625 - val_top_3_accuracy: 0.7617\n",
            "Epoch 31/100\n",
            "218/218 [==============================] - 16s 73ms/step - loss: 1.2296 - categorical_crossentropy: 1.2296 - categorical_accuracy: 0.6446 - top_3_accuracy: 0.8309 - val_loss: 1.5855 - val_categorical_crossentropy: 1.5855 - val_categorical_accuracy: 0.5605 - val_top_3_accuracy: 0.7617\n",
            "Epoch 32/100\n",
            "217/218 [============================>.] - ETA: 0s - loss: 1.2350 - categorical_crossentropy: 1.2350 - categorical_accuracy: 0.6478 - top_3_accuracy: 0.8304\n",
            "Epoch 00032: ReduceLROnPlateau reducing learning rate to 0.0005000000237487257.\n",
            "218/218 [==============================] - 16s 73ms/step - loss: 1.2356 - categorical_crossentropy: 1.2356 - categorical_accuracy: 0.6478 - top_3_accuracy: 0.8299 - val_loss: 1.4717 - val_categorical_crossentropy: 1.4717 - val_categorical_accuracy: 0.6211 - val_top_3_accuracy: 0.7793\n",
            "Epoch 33/100\n",
            "218/218 [==============================] - 16s 74ms/step - loss: 1.1471 - categorical_crossentropy: 1.1471 - categorical_accuracy: 0.6704 - top_3_accuracy: 0.8471 - val_loss: 1.2384 - val_categorical_crossentropy: 1.2384 - val_categorical_accuracy: 0.6719 - val_top_3_accuracy: 0.8301\n",
            "Epoch 34/100\n",
            "218/218 [==============================] - 16s 74ms/step - loss: 1.1284 - categorical_crossentropy: 1.1284 - categorical_accuracy: 0.6743 - top_3_accuracy: 0.8483 - val_loss: 1.2092 - val_categorical_crossentropy: 1.2092 - val_categorical_accuracy: 0.6777 - val_top_3_accuracy: 0.8379\n",
            "Epoch 35/100\n",
            "218/218 [==============================] - 16s 75ms/step - loss: 1.1064 - categorical_crossentropy: 1.1064 - categorical_accuracy: 0.6790 - top_3_accuracy: 0.8534 - val_loss: 1.2307 - val_categorical_crossentropy: 1.2307 - val_categorical_accuracy: 0.6797 - val_top_3_accuracy: 0.8262\n",
            "Epoch 36/100\n",
            "218/218 [==============================] - 16s 74ms/step - loss: 1.1058 - categorical_crossentropy: 1.1058 - categorical_accuracy: 0.6772 - top_3_accuracy: 0.8539 - val_loss: 1.4876 - val_categorical_crossentropy: 1.4876 - val_categorical_accuracy: 0.5859 - val_top_3_accuracy: 0.7773\n",
            "Epoch 37/100\n",
            "218/218 [==============================] - 16s 74ms/step - loss: 1.0899 - categorical_crossentropy: 1.0899 - categorical_accuracy: 0.6851 - top_3_accuracy: 0.8571 - val_loss: 1.2968 - val_categorical_crossentropy: 1.2968 - val_categorical_accuracy: 0.6660 - val_top_3_accuracy: 0.8223\n",
            "Epoch 38/100\n",
            "218/218 [==============================] - 16s 74ms/step - loss: 1.0867 - categorical_crossentropy: 1.0867 - categorical_accuracy: 0.6843 - top_3_accuracy: 0.8558 - val_loss: 1.1909 - val_categorical_crossentropy: 1.1909 - val_categorical_accuracy: 0.6797 - val_top_3_accuracy: 0.8320\n",
            "Epoch 39/100\n",
            "217/218 [============================>.] - ETA: 0s - loss: 1.0848 - categorical_crossentropy: 1.0848 - categorical_accuracy: 0.6865 - top_3_accuracy: 0.8588\n",
            "Epoch 00039: ReduceLROnPlateau reducing learning rate to 0.0002500000118743628.\n",
            "218/218 [==============================] - 16s 74ms/step - loss: 1.0846 - categorical_crossentropy: 1.0846 - categorical_accuracy: 0.6866 - top_3_accuracy: 0.8588 - val_loss: 1.2297 - val_categorical_crossentropy: 1.2297 - val_categorical_accuracy: 0.6582 - val_top_3_accuracy: 0.8086\n",
            "Epoch 40/100\n",
            "218/218 [==============================] - 16s 74ms/step - loss: 1.0255 - categorical_crossentropy: 1.0255 - categorical_accuracy: 0.7011 - top_3_accuracy: 0.8639 - val_loss: 1.1466 - val_categorical_crossentropy: 1.1466 - val_categorical_accuracy: 0.6895 - val_top_3_accuracy: 0.8496\n",
            "Epoch 41/100\n",
            "218/218 [==============================] - 16s 73ms/step - loss: 1.0240 - categorical_crossentropy: 1.0240 - categorical_accuracy: 0.7031 - top_3_accuracy: 0.8688 - val_loss: 1.1289 - val_categorical_crossentropy: 1.1289 - val_categorical_accuracy: 0.6992 - val_top_3_accuracy: 0.8496\n",
            "Epoch 42/100\n",
            "218/218 [==============================] - 16s 75ms/step - loss: 1.0114 - categorical_crossentropy: 1.0114 - categorical_accuracy: 0.7071 - top_3_accuracy: 0.8698 - val_loss: 1.1976 - val_categorical_crossentropy: 1.1976 - val_categorical_accuracy: 0.6758 - val_top_3_accuracy: 0.8223\n",
            "Epoch 43/100\n",
            "218/218 [==============================] - 16s 74ms/step - loss: 0.9927 - categorical_crossentropy: 0.9927 - categorical_accuracy: 0.7068 - top_3_accuracy: 0.8741 - val_loss: 1.2654 - val_categorical_crossentropy: 1.2654 - val_categorical_accuracy: 0.6641 - val_top_3_accuracy: 0.8281\n",
            "Epoch 44/100\n",
            "218/218 [==============================] - 16s 74ms/step - loss: 0.9851 - categorical_crossentropy: 0.9851 - categorical_accuracy: 0.7112 - top_3_accuracy: 0.8739 - val_loss: 1.1543 - val_categorical_crossentropy: 1.1543 - val_categorical_accuracy: 0.7051 - val_top_3_accuracy: 0.8320\n",
            "Epoch 45/100\n",
            "218/218 [==============================] - 16s 74ms/step - loss: 0.9887 - categorical_crossentropy: 0.9887 - categorical_accuracy: 0.7094 - top_3_accuracy: 0.8753 - val_loss: 1.2004 - val_categorical_crossentropy: 1.2004 - val_categorical_accuracy: 0.6953 - val_top_3_accuracy: 0.8359\n",
            "Epoch 46/100\n",
            "218/218 [==============================] - 16s 74ms/step - loss: 0.9712 - categorical_crossentropy: 0.9712 - categorical_accuracy: 0.7149 - top_3_accuracy: 0.8744 - val_loss: 1.1722 - val_categorical_crossentropy: 1.1722 - val_categorical_accuracy: 0.6914 - val_top_3_accuracy: 0.8359\n",
            "Epoch 47/100\n",
            "218/218 [==============================] - 16s 74ms/step - loss: 0.9787 - categorical_crossentropy: 0.9787 - categorical_accuracy: 0.7140 - top_3_accuracy: 0.8724 - val_loss: 1.1932 - val_categorical_crossentropy: 1.1932 - val_categorical_accuracy: 0.6875 - val_top_3_accuracy: 0.8340\n",
            "Epoch 48/100\n",
            "218/218 [==============================] - 16s 75ms/step - loss: 0.9707 - categorical_crossentropy: 0.9707 - categorical_accuracy: 0.7163 - top_3_accuracy: 0.8736 - val_loss: 1.1871 - val_categorical_crossentropy: 1.1871 - val_categorical_accuracy: 0.6875 - val_top_3_accuracy: 0.8301\n",
            "Epoch 49/100\n",
            "217/218 [============================>.] - ETA: 0s - loss: 0.9735 - categorical_crossentropy: 0.9735 - categorical_accuracy: 0.7164 - top_3_accuracy: 0.8762\n",
            "Epoch 00049: ReduceLROnPlateau reducing learning rate to 0.0001250000059371814.\n",
            "218/218 [==============================] - 16s 74ms/step - loss: 0.9738 - categorical_crossentropy: 0.9738 - categorical_accuracy: 0.7163 - top_3_accuracy: 0.8761 - val_loss: 1.1679 - val_categorical_crossentropy: 1.1679 - val_categorical_accuracy: 0.6836 - val_top_3_accuracy: 0.8379\n",
            "Epoch 50/100\n",
            "218/218 [==============================] - 16s 74ms/step - loss: 0.9313 - categorical_crossentropy: 0.9313 - categorical_accuracy: 0.7261 - top_3_accuracy: 0.8812 - val_loss: 1.1263 - val_categorical_crossentropy: 1.1263 - val_categorical_accuracy: 0.7012 - val_top_3_accuracy: 0.8535\n",
            "Epoch 51/100\n",
            "218/218 [==============================] - 16s 73ms/step - loss: 0.9234 - categorical_crossentropy: 0.9234 - categorical_accuracy: 0.7268 - top_3_accuracy: 0.8836 - val_loss: 1.1385 - val_categorical_crossentropy: 1.1385 - val_categorical_accuracy: 0.6934 - val_top_3_accuracy: 0.8477\n",
            "Epoch 52/100\n",
            "218/218 [==============================] - 16s 74ms/step - loss: 0.9236 - categorical_crossentropy: 0.9236 - categorical_accuracy: 0.7322 - top_3_accuracy: 0.8831 - val_loss: 1.1837 - val_categorical_crossentropy: 1.1837 - val_categorical_accuracy: 0.6934 - val_top_3_accuracy: 0.8418\n",
            "Epoch 53/100\n",
            "218/218 [==============================] - 16s 74ms/step - loss: 0.9195 - categorical_crossentropy: 0.9195 - categorical_accuracy: 0.7286 - top_3_accuracy: 0.8816 - val_loss: 1.1892 - val_categorical_crossentropy: 1.1892 - val_categorical_accuracy: 0.6855 - val_top_3_accuracy: 0.8379\n",
            "Epoch 54/100\n",
            "218/218 [==============================] - 16s 74ms/step - loss: 0.9261 - categorical_crossentropy: 0.9261 - categorical_accuracy: 0.7250 - top_3_accuracy: 0.8815 - val_loss: 1.1982 - val_categorical_crossentropy: 1.1982 - val_categorical_accuracy: 0.6855 - val_top_3_accuracy: 0.8438\n",
            "Epoch 55/100\n",
            "218/218 [==============================] - 16s 74ms/step - loss: 0.9140 - categorical_crossentropy: 0.9140 - categorical_accuracy: 0.7294 - top_3_accuracy: 0.8837 - val_loss: 1.1620 - val_categorical_crossentropy: 1.1620 - val_categorical_accuracy: 0.6914 - val_top_3_accuracy: 0.8379\n",
            "Epoch 56/100\n",
            "217/218 [============================>.] - ETA: 0s - loss: 0.9160 - categorical_crossentropy: 0.9160 - categorical_accuracy: 0.7290 - top_3_accuracy: 0.8864\n",
            "Epoch 00056: ReduceLROnPlateau reducing learning rate to 6.25000029685907e-05.\n",
            "218/218 [==============================] - 16s 72ms/step - loss: 0.9154 - categorical_crossentropy: 0.9154 - categorical_accuracy: 0.7290 - top_3_accuracy: 0.8865 - val_loss: 1.1643 - val_categorical_crossentropy: 1.1643 - val_categorical_accuracy: 0.6992 - val_top_3_accuracy: 0.8438\n",
            "Epoch 57/100\n",
            "218/218 [==============================] - 16s 73ms/step - loss: 0.8941 - categorical_crossentropy: 0.8941 - categorical_accuracy: 0.7301 - top_3_accuracy: 0.8868 - val_loss: 1.1532 - val_categorical_crossentropy: 1.1532 - val_categorical_accuracy: 0.6992 - val_top_3_accuracy: 0.8438\n",
            "Epoch 58/100\n",
            "218/218 [==============================] - 16s 72ms/step - loss: 0.8824 - categorical_crossentropy: 0.8824 - categorical_accuracy: 0.7407 - top_3_accuracy: 0.8892 - val_loss: 1.1433 - val_categorical_crossentropy: 1.1433 - val_categorical_accuracy: 0.7012 - val_top_3_accuracy: 0.8535\n",
            "Epoch 59/100\n",
            "218/218 [==============================] - 16s 72ms/step - loss: 0.8809 - categorical_crossentropy: 0.8809 - categorical_accuracy: 0.7377 - top_3_accuracy: 0.8901 - val_loss: 1.1408 - val_categorical_crossentropy: 1.1408 - val_categorical_accuracy: 0.7031 - val_top_3_accuracy: 0.8516\n",
            "Epoch 60/100\n",
            "218/218 [==============================] - 16s 73ms/step - loss: 0.8827 - categorical_crossentropy: 0.8827 - categorical_accuracy: 0.7380 - top_3_accuracy: 0.8888 - val_loss: 1.1348 - val_categorical_crossentropy: 1.1348 - val_categorical_accuracy: 0.7090 - val_top_3_accuracy: 0.8457\n",
            "Epoch 61/100\n",
            "218/218 [==============================] - 16s 73ms/step - loss: 0.8794 - categorical_crossentropy: 0.8794 - categorical_accuracy: 0.7393 - top_3_accuracy: 0.8877 - val_loss: 1.1625 - val_categorical_crossentropy: 1.1625 - val_categorical_accuracy: 0.6973 - val_top_3_accuracy: 0.8359\n",
            "Epoch 62/100\n",
            "218/218 [==============================] - 16s 72ms/step - loss: 0.8933 - categorical_crossentropy: 0.8933 - categorical_accuracy: 0.7352 - top_3_accuracy: 0.8870 - val_loss: 1.1647 - val_categorical_crossentropy: 1.1647 - val_categorical_accuracy: 0.6914 - val_top_3_accuracy: 0.8477\n",
            "Epoch 63/100\n",
            "217/218 [============================>.] - ETA: 0s - loss: 0.8742 - categorical_crossentropy: 0.8742 - categorical_accuracy: 0.7393 - top_3_accuracy: 0.8919\n",
            "Epoch 00063: ReduceLROnPlateau reducing learning rate to 3.125000148429535e-05.\n",
            "218/218 [==============================] - 16s 72ms/step - loss: 0.8742 - categorical_crossentropy: 0.8742 - categorical_accuracy: 0.7395 - top_3_accuracy: 0.8921 - val_loss: 1.1640 - val_categorical_crossentropy: 1.1640 - val_categorical_accuracy: 0.6855 - val_top_3_accuracy: 0.8379\n",
            "Epoch 64/100\n",
            "218/218 [==============================] - 16s 73ms/step - loss: 0.8596 - categorical_crossentropy: 0.8596 - categorical_accuracy: 0.7435 - top_3_accuracy: 0.8920 - val_loss: 1.1438 - val_categorical_crossentropy: 1.1438 - val_categorical_accuracy: 0.7051 - val_top_3_accuracy: 0.8418\n",
            "Epoch 65/100\n",
            "218/218 [==============================] - 16s 73ms/step - loss: 0.8666 - categorical_crossentropy: 0.8666 - categorical_accuracy: 0.7398 - top_3_accuracy: 0.8913 - val_loss: 1.1484 - val_categorical_crossentropy: 1.1484 - val_categorical_accuracy: 0.7031 - val_top_3_accuracy: 0.8516\n",
            "Epoch 66/100\n",
            "218/218 [==============================] - 16s 72ms/step - loss: 0.8545 - categorical_crossentropy: 0.8545 - categorical_accuracy: 0.7445 - top_3_accuracy: 0.8934 - val_loss: 1.1376 - val_categorical_crossentropy: 1.1376 - val_categorical_accuracy: 0.7070 - val_top_3_accuracy: 0.8457\n",
            "Epoch 67/100\n",
            "218/218 [==============================] - 16s 74ms/step - loss: 0.8796 - categorical_crossentropy: 0.8796 - categorical_accuracy: 0.7371 - top_3_accuracy: 0.8899 - val_loss: 1.1439 - val_categorical_crossentropy: 1.1439 - val_categorical_accuracy: 0.7070 - val_top_3_accuracy: 0.8418\n",
            "Epoch 68/100\n",
            "218/218 [==============================] - 16s 74ms/step - loss: 0.8627 - categorical_crossentropy: 0.8627 - categorical_accuracy: 0.7446 - top_3_accuracy: 0.8923 - val_loss: 1.1353 - val_categorical_crossentropy: 1.1353 - val_categorical_accuracy: 0.7109 - val_top_3_accuracy: 0.8516\n",
            "Epoch 69/100\n",
            "218/218 [==============================] - 16s 72ms/step - loss: 0.8669 - categorical_crossentropy: 0.8669 - categorical_accuracy: 0.7427 - top_3_accuracy: 0.8881 - val_loss: 1.1585 - val_categorical_crossentropy: 1.1585 - val_categorical_accuracy: 0.7012 - val_top_3_accuracy: 0.8457\n",
            "Epoch 70/100\n",
            "218/218 [==============================] - 16s 73ms/step - loss: 0.8543 - categorical_crossentropy: 0.8543 - categorical_accuracy: 0.7469 - top_3_accuracy: 0.8925 - val_loss: 1.1484 - val_categorical_crossentropy: 1.1484 - val_categorical_accuracy: 0.7070 - val_top_3_accuracy: 0.8496\n",
            "Epoch 71/100\n",
            "218/218 [==============================] - 16s 73ms/step - loss: 0.8457 - categorical_crossentropy: 0.8457 - categorical_accuracy: 0.7492 - top_3_accuracy: 0.8930 - val_loss: 1.1605 - val_categorical_crossentropy: 1.1605 - val_categorical_accuracy: 0.6992 - val_top_3_accuracy: 0.8477\n",
            "Epoch 72/100\n",
            "218/218 [==============================] - 16s 73ms/step - loss: 0.8612 - categorical_crossentropy: 0.8612 - categorical_accuracy: 0.7432 - top_3_accuracy: 0.8918 - val_loss: 1.1581 - val_categorical_crossentropy: 1.1581 - val_categorical_accuracy: 0.7012 - val_top_3_accuracy: 0.8594\n",
            "Epoch 73/100\n",
            "217/218 [============================>.] - ETA: 0s - loss: 0.8616 - categorical_crossentropy: 0.8616 - categorical_accuracy: 0.7465 - top_3_accuracy: 0.8936\n",
            "Epoch 00073: ReduceLROnPlateau reducing learning rate to 1.5625000742147677e-05.\n",
            "218/218 [==============================] - 16s 73ms/step - loss: 0.8611 - categorical_crossentropy: 0.8611 - categorical_accuracy: 0.7468 - top_3_accuracy: 0.8937 - val_loss: 1.1503 - val_categorical_crossentropy: 1.1503 - val_categorical_accuracy: 0.7031 - val_top_3_accuracy: 0.8555\n",
            "Epoch 74/100\n",
            "218/218 [==============================] - 16s 75ms/step - loss: 0.8523 - categorical_crossentropy: 0.8523 - categorical_accuracy: 0.7494 - top_3_accuracy: 0.8940 - val_loss: 1.1593 - val_categorical_crossentropy: 1.1593 - val_categorical_accuracy: 0.6992 - val_top_3_accuracy: 0.8555\n",
            "Epoch 75/100\n",
            "218/218 [==============================] - 16s 73ms/step - loss: 0.8552 - categorical_crossentropy: 0.8552 - categorical_accuracy: 0.7435 - top_3_accuracy: 0.8896 - val_loss: 1.1545 - val_categorical_crossentropy: 1.1545 - val_categorical_accuracy: 0.6973 - val_top_3_accuracy: 0.8574\n",
            "Epoch 76/100\n",
            "218/218 [==============================] - 16s 74ms/step - loss: 0.8648 - categorical_crossentropy: 0.8648 - categorical_accuracy: 0.7441 - top_3_accuracy: 0.8908 - val_loss: 1.1515 - val_categorical_crossentropy: 1.1515 - val_categorical_accuracy: 0.7031 - val_top_3_accuracy: 0.8516\n",
            "Epoch 77/100\n",
            "218/218 [==============================] - 16s 74ms/step - loss: 0.8468 - categorical_crossentropy: 0.8468 - categorical_accuracy: 0.7473 - top_3_accuracy: 0.8949 - val_loss: 1.1510 - val_categorical_crossentropy: 1.1510 - val_categorical_accuracy: 0.7012 - val_top_3_accuracy: 0.8477\n",
            "Epoch 78/100\n",
            "218/218 [==============================] - 16s 73ms/step - loss: 0.8441 - categorical_crossentropy: 0.8441 - categorical_accuracy: 0.7517 - top_3_accuracy: 0.8951 - val_loss: 1.1576 - val_categorical_crossentropy: 1.1576 - val_categorical_accuracy: 0.6973 - val_top_3_accuracy: 0.8516\n",
            "Epoch 79/100\n",
            "218/218 [==============================] - 16s 73ms/step - loss: 0.8671 - categorical_crossentropy: 0.8671 - categorical_accuracy: 0.7420 - top_3_accuracy: 0.8911 - val_loss: 1.1569 - val_categorical_crossentropy: 1.1569 - val_categorical_accuracy: 0.6992 - val_top_3_accuracy: 0.8516\n",
            "Epoch 80/100\n",
            "217/218 [============================>.] - ETA: 0s - loss: 0.8656 - categorical_crossentropy: 0.8656 - categorical_accuracy: 0.7432 - top_3_accuracy: 0.8919\n",
            "Epoch 00080: ReduceLROnPlateau reducing learning rate to 7.812500371073838e-06.\n",
            "218/218 [==============================] - 16s 74ms/step - loss: 0.8660 - categorical_crossentropy: 0.8660 - categorical_accuracy: 0.7431 - top_3_accuracy: 0.8917 - val_loss: 1.1579 - val_categorical_crossentropy: 1.1579 - val_categorical_accuracy: 0.7012 - val_top_3_accuracy: 0.8457\n",
            "Epoch 81/100\n",
            "218/218 [==============================] - 16s 72ms/step - loss: 0.8480 - categorical_crossentropy: 0.8480 - categorical_accuracy: 0.7465 - top_3_accuracy: 0.8953 - val_loss: 1.1555 - val_categorical_crossentropy: 1.1555 - val_categorical_accuracy: 0.6992 - val_top_3_accuracy: 0.8516\n",
            "Epoch 82/100\n",
            "218/218 [==============================] - 16s 72ms/step - loss: 0.8504 - categorical_crossentropy: 0.8504 - categorical_accuracy: 0.7440 - top_3_accuracy: 0.8932 - val_loss: 1.1493 - val_categorical_crossentropy: 1.1493 - val_categorical_accuracy: 0.6992 - val_top_3_accuracy: 0.8594\n",
            "Epoch 83/100\n",
            "218/218 [==============================] - 16s 75ms/step - loss: 0.8377 - categorical_crossentropy: 0.8377 - categorical_accuracy: 0.7484 - top_3_accuracy: 0.8978 - val_loss: 1.1488 - val_categorical_crossentropy: 1.1488 - val_categorical_accuracy: 0.6992 - val_top_3_accuracy: 0.8535\n",
            "Epoch 84/100\n",
            "218/218 [==============================] - 16s 74ms/step - loss: 0.8490 - categorical_crossentropy: 0.8490 - categorical_accuracy: 0.7460 - top_3_accuracy: 0.8962 - val_loss: 1.1564 - val_categorical_crossentropy: 1.1564 - val_categorical_accuracy: 0.6992 - val_top_3_accuracy: 0.8516\n",
            "Epoch 85/100\n",
            "218/218 [==============================] - 16s 74ms/step - loss: 0.8572 - categorical_crossentropy: 0.8572 - categorical_accuracy: 0.7426 - top_3_accuracy: 0.8949 - val_loss: 1.1530 - val_categorical_crossentropy: 1.1530 - val_categorical_accuracy: 0.6992 - val_top_3_accuracy: 0.8555\n",
            "Epoch 86/100\n",
            "218/218 [==============================] - 16s 75ms/step - loss: 0.8476 - categorical_crossentropy: 0.8476 - categorical_accuracy: 0.7483 - top_3_accuracy: 0.8949 - val_loss: 1.1482 - val_categorical_crossentropy: 1.1482 - val_categorical_accuracy: 0.7012 - val_top_3_accuracy: 0.8535\n",
            "Epoch 87/100\n",
            "217/218 [============================>.] - ETA: 0s - loss: 0.8548 - categorical_crossentropy: 0.8548 - categorical_accuracy: 0.7471 - top_3_accuracy: 0.8921\n",
            "Epoch 00087: ReduceLROnPlateau reducing learning rate to 3.906250185536919e-06.\n",
            "218/218 [==============================] - 16s 74ms/step - loss: 0.8549 - categorical_crossentropy: 0.8549 - categorical_accuracy: 0.7471 - top_3_accuracy: 0.8921 - val_loss: 1.1521 - val_categorical_crossentropy: 1.1521 - val_categorical_accuracy: 0.7070 - val_top_3_accuracy: 0.8496\n",
            "Epoch 88/100\n",
            "218/218 [==============================] - 16s 73ms/step - loss: 0.8285 - categorical_crossentropy: 0.8285 - categorical_accuracy: 0.7528 - top_3_accuracy: 0.8976 - val_loss: 1.1505 - val_categorical_crossentropy: 1.1505 - val_categorical_accuracy: 0.7051 - val_top_3_accuracy: 0.8535\n",
            "Epoch 89/100\n",
            "218/218 [==============================] - 16s 74ms/step - loss: 0.8493 - categorical_crossentropy: 0.8493 - categorical_accuracy: 0.7478 - top_3_accuracy: 0.8923 - val_loss: 1.1472 - val_categorical_crossentropy: 1.1472 - val_categorical_accuracy: 0.7031 - val_top_3_accuracy: 0.8574\n",
            "Epoch 90/100\n",
            "218/218 [==============================] - 16s 73ms/step - loss: 0.8459 - categorical_crossentropy: 0.8459 - categorical_accuracy: 0.7473 - top_3_accuracy: 0.8930 - val_loss: 1.1532 - val_categorical_crossentropy: 1.1532 - val_categorical_accuracy: 0.7031 - val_top_3_accuracy: 0.8555\n",
            "Epoch 91/100\n",
            "218/218 [==============================] - 16s 73ms/step - loss: 0.8421 - categorical_crossentropy: 0.8421 - categorical_accuracy: 0.7480 - top_3_accuracy: 0.8949 - val_loss: 1.1520 - val_categorical_crossentropy: 1.1520 - val_categorical_accuracy: 0.7012 - val_top_3_accuracy: 0.8535\n",
            "Epoch 92/100\n",
            "218/218 [==============================] - 16s 74ms/step - loss: 0.8683 - categorical_crossentropy: 0.8683 - categorical_accuracy: 0.7383 - top_3_accuracy: 0.8916 - val_loss: 1.1537 - val_categorical_crossentropy: 1.1537 - val_categorical_accuracy: 0.6973 - val_top_3_accuracy: 0.8555\n",
            "Epoch 93/100\n",
            "218/218 [==============================] - 17s 76ms/step - loss: 0.8413 - categorical_crossentropy: 0.8413 - categorical_accuracy: 0.7484 - top_3_accuracy: 0.8933 - val_loss: 1.1502 - val_categorical_crossentropy: 1.1502 - val_categorical_accuracy: 0.6992 - val_top_3_accuracy: 0.8574\n",
            "Epoch 94/100\n",
            "217/218 [============================>.] - ETA: 0s - loss: 0.8413 - categorical_crossentropy: 0.8413 - categorical_accuracy: 0.7487 - top_3_accuracy: 0.8942\n",
            "Epoch 00094: ReduceLROnPlateau reducing learning rate to 1.9531250927684596e-06.\n",
            "218/218 [==============================] - 16s 73ms/step - loss: 0.8414 - categorical_crossentropy: 0.8414 - categorical_accuracy: 0.7486 - top_3_accuracy: 0.8944 - val_loss: 1.1512 - val_categorical_crossentropy: 1.1512 - val_categorical_accuracy: 0.6992 - val_top_3_accuracy: 0.8555\n",
            "Epoch 95/100\n",
            "218/218 [==============================] - 16s 72ms/step - loss: 0.8377 - categorical_crossentropy: 0.8377 - categorical_accuracy: 0.7522 - top_3_accuracy: 0.8964 - val_loss: 1.1493 - val_categorical_crossentropy: 1.1493 - val_categorical_accuracy: 0.6973 - val_top_3_accuracy: 0.8555\n",
            "Epoch 96/100\n",
            "218/218 [==============================] - 16s 73ms/step - loss: 0.8406 - categorical_crossentropy: 0.8406 - categorical_accuracy: 0.7525 - top_3_accuracy: 0.8932 - val_loss: 1.1492 - val_categorical_crossentropy: 1.1492 - val_categorical_accuracy: 0.7012 - val_top_3_accuracy: 0.8574\n",
            "Epoch 97/100\n",
            "218/218 [==============================] - 16s 72ms/step - loss: 0.8418 - categorical_crossentropy: 0.8418 - categorical_accuracy: 0.7526 - top_3_accuracy: 0.8951 - val_loss: 1.1523 - val_categorical_crossentropy: 1.1523 - val_categorical_accuracy: 0.7012 - val_top_3_accuracy: 0.8555\n",
            "Epoch 98/100\n",
            "218/218 [==============================] - 16s 73ms/step - loss: 0.8346 - categorical_crossentropy: 0.8346 - categorical_accuracy: 0.7521 - top_3_accuracy: 0.8954 - val_loss: 1.1504 - val_categorical_crossentropy: 1.1504 - val_categorical_accuracy: 0.6992 - val_top_3_accuracy: 0.8555\n",
            "Epoch 99/100\n",
            "218/218 [==============================] - 16s 73ms/step - loss: 0.8426 - categorical_crossentropy: 0.8426 - categorical_accuracy: 0.7509 - top_3_accuracy: 0.8953 - val_loss: 1.1519 - val_categorical_crossentropy: 1.1519 - val_categorical_accuracy: 0.6992 - val_top_3_accuracy: 0.8574\n",
            "Epoch 100/100\n",
            "218/218 [==============================] - 16s 72ms/step - loss: 0.8391 - categorical_crossentropy: 0.8391 - categorical_accuracy: 0.7500 - top_3_accuracy: 0.8974 - val_loss: 1.1535 - val_categorical_crossentropy: 1.1535 - val_categorical_accuracy: 0.6953 - val_top_3_accuracy: 0.8535\n",
            "Test loss: 1.1534744538366795\n",
            "Test accuracy: 1.1534744538366795\n"
          ],
          "name": "stdout"
        }
      ]
    },
    {
      "metadata": {
        "id": "SwXFNgEtFDi6",
        "colab_type": "code",
        "colab": {
          "base_uri": "https://localhost:8080/",
          "height": 3298
        },
        "outputId": "cbab6bc0-5ef6-4f64-c63b-e742337a70e0"
      },
      "cell_type": "code",
      "source": [
        "model_mn.summary()"
      ],
      "execution_count": 36,
      "outputs": [
        {
          "output_type": "stream",
          "text": [
            "_________________________________________________________________\n",
            "Layer (type)                 Output Shape              Param #   \n",
            "=================================================================\n",
            "input_1 (InputLayer)         (None, 40, 40, 1)         0         \n",
            "_________________________________________________________________\n",
            "conv1_pad (ZeroPadding2D)    (None, 41, 41, 1)         0         \n",
            "_________________________________________________________________\n",
            "conv1 (Conv2D)               (None, 20, 20, 32)        288       \n",
            "_________________________________________________________________\n",
            "conv1_bn (BatchNormalization (None, 20, 20, 32)        128       \n",
            "_________________________________________________________________\n",
            "conv1_relu (ReLU)            (None, 20, 20, 32)        0         \n",
            "_________________________________________________________________\n",
            "conv_dw_1 (DepthwiseConv2D)  (None, 20, 20, 32)        288       \n",
            "_________________________________________________________________\n",
            "conv_dw_1_bn (BatchNormaliza (None, 20, 20, 32)        128       \n",
            "_________________________________________________________________\n",
            "conv_dw_1_relu (ReLU)        (None, 20, 20, 32)        0         \n",
            "_________________________________________________________________\n",
            "conv_pw_1 (Conv2D)           (None, 20, 20, 64)        2048      \n",
            "_________________________________________________________________\n",
            "conv_pw_1_bn (BatchNormaliza (None, 20, 20, 64)        256       \n",
            "_________________________________________________________________\n",
            "conv_pw_1_relu (ReLU)        (None, 20, 20, 64)        0         \n",
            "_________________________________________________________________\n",
            "conv_pad_2 (ZeroPadding2D)   (None, 21, 21, 64)        0         \n",
            "_________________________________________________________________\n",
            "conv_dw_2 (DepthwiseConv2D)  (None, 10, 10, 64)        576       \n",
            "_________________________________________________________________\n",
            "conv_dw_2_bn (BatchNormaliza (None, 10, 10, 64)        256       \n",
            "_________________________________________________________________\n",
            "conv_dw_2_relu (ReLU)        (None, 10, 10, 64)        0         \n",
            "_________________________________________________________________\n",
            "conv_pw_2 (Conv2D)           (None, 10, 10, 128)       8192      \n",
            "_________________________________________________________________\n",
            "conv_pw_2_bn (BatchNormaliza (None, 10, 10, 128)       512       \n",
            "_________________________________________________________________\n",
            "conv_pw_2_relu (ReLU)        (None, 10, 10, 128)       0         \n",
            "_________________________________________________________________\n",
            "conv_dw_3 (DepthwiseConv2D)  (None, 10, 10, 128)       1152      \n",
            "_________________________________________________________________\n",
            "conv_dw_3_bn (BatchNormaliza (None, 10, 10, 128)       512       \n",
            "_________________________________________________________________\n",
            "conv_dw_3_relu (ReLU)        (None, 10, 10, 128)       0         \n",
            "_________________________________________________________________\n",
            "conv_pw_3 (Conv2D)           (None, 10, 10, 128)       16384     \n",
            "_________________________________________________________________\n",
            "conv_pw_3_bn (BatchNormaliza (None, 10, 10, 128)       512       \n",
            "_________________________________________________________________\n",
            "conv_pw_3_relu (ReLU)        (None, 10, 10, 128)       0         \n",
            "_________________________________________________________________\n",
            "conv_pad_4 (ZeroPadding2D)   (None, 11, 11, 128)       0         \n",
            "_________________________________________________________________\n",
            "conv_dw_4 (DepthwiseConv2D)  (None, 5, 5, 128)         1152      \n",
            "_________________________________________________________________\n",
            "conv_dw_4_bn (BatchNormaliza (None, 5, 5, 128)         512       \n",
            "_________________________________________________________________\n",
            "conv_dw_4_relu (ReLU)        (None, 5, 5, 128)         0         \n",
            "_________________________________________________________________\n",
            "conv_pw_4 (Conv2D)           (None, 5, 5, 256)         32768     \n",
            "_________________________________________________________________\n",
            "conv_pw_4_bn (BatchNormaliza (None, 5, 5, 256)         1024      \n",
            "_________________________________________________________________\n",
            "conv_pw_4_relu (ReLU)        (None, 5, 5, 256)         0         \n",
            "_________________________________________________________________\n",
            "conv_dw_5 (DepthwiseConv2D)  (None, 5, 5, 256)         2304      \n",
            "_________________________________________________________________\n",
            "conv_dw_5_bn (BatchNormaliza (None, 5, 5, 256)         1024      \n",
            "_________________________________________________________________\n",
            "conv_dw_5_relu (ReLU)        (None, 5, 5, 256)         0         \n",
            "_________________________________________________________________\n",
            "conv_pw_5 (Conv2D)           (None, 5, 5, 256)         65536     \n",
            "_________________________________________________________________\n",
            "conv_pw_5_bn (BatchNormaliza (None, 5, 5, 256)         1024      \n",
            "_________________________________________________________________\n",
            "conv_pw_5_relu (ReLU)        (None, 5, 5, 256)         0         \n",
            "_________________________________________________________________\n",
            "conv_pad_6 (ZeroPadding2D)   (None, 6, 6, 256)         0         \n",
            "_________________________________________________________________\n",
            "conv_dw_6 (DepthwiseConv2D)  (None, 2, 2, 256)         2304      \n",
            "_________________________________________________________________\n",
            "conv_dw_6_bn (BatchNormaliza (None, 2, 2, 256)         1024      \n",
            "_________________________________________________________________\n",
            "conv_dw_6_relu (ReLU)        (None, 2, 2, 256)         0         \n",
            "_________________________________________________________________\n",
            "conv_pw_6 (Conv2D)           (None, 2, 2, 512)         131072    \n",
            "_________________________________________________________________\n",
            "conv_pw_6_bn (BatchNormaliza (None, 2, 2, 512)         2048      \n",
            "_________________________________________________________________\n",
            "conv_pw_6_relu (ReLU)        (None, 2, 2, 512)         0         \n",
            "_________________________________________________________________\n",
            "conv_dw_7 (DepthwiseConv2D)  (None, 2, 2, 512)         4608      \n",
            "_________________________________________________________________\n",
            "conv_dw_7_bn (BatchNormaliza (None, 2, 2, 512)         2048      \n",
            "_________________________________________________________________\n",
            "conv_dw_7_relu (ReLU)        (None, 2, 2, 512)         0         \n",
            "_________________________________________________________________\n",
            "conv_pw_7 (Conv2D)           (None, 2, 2, 512)         262144    \n",
            "_________________________________________________________________\n",
            "conv_pw_7_bn (BatchNormaliza (None, 2, 2, 512)         2048      \n",
            "_________________________________________________________________\n",
            "conv_pw_7_relu (ReLU)        (None, 2, 2, 512)         0         \n",
            "_________________________________________________________________\n",
            "conv_dw_8 (DepthwiseConv2D)  (None, 2, 2, 512)         4608      \n",
            "_________________________________________________________________\n",
            "conv_dw_8_bn (BatchNormaliza (None, 2, 2, 512)         2048      \n",
            "_________________________________________________________________\n",
            "conv_dw_8_relu (ReLU)        (None, 2, 2, 512)         0         \n",
            "_________________________________________________________________\n",
            "conv_pw_8 (Conv2D)           (None, 2, 2, 512)         262144    \n",
            "_________________________________________________________________\n",
            "conv_pw_8_bn (BatchNormaliza (None, 2, 2, 512)         2048      \n",
            "_________________________________________________________________\n",
            "conv_pw_8_relu (ReLU)        (None, 2, 2, 512)         0         \n",
            "_________________________________________________________________\n",
            "conv_dw_9 (DepthwiseConv2D)  (None, 2, 2, 512)         4608      \n",
            "_________________________________________________________________\n",
            "conv_dw_9_bn (BatchNormaliza (None, 2, 2, 512)         2048      \n",
            "_________________________________________________________________\n",
            "conv_dw_9_relu (ReLU)        (None, 2, 2, 512)         0         \n",
            "_________________________________________________________________\n",
            "conv_pw_9 (Conv2D)           (None, 2, 2, 512)         262144    \n",
            "_________________________________________________________________\n",
            "conv_pw_9_bn (BatchNormaliza (None, 2, 2, 512)         2048      \n",
            "_________________________________________________________________\n",
            "conv_pw_9_relu (ReLU)        (None, 2, 2, 512)         0         \n",
            "_________________________________________________________________\n",
            "conv_dw_10 (DepthwiseConv2D) (None, 2, 2, 512)         4608      \n",
            "_________________________________________________________________\n",
            "conv_dw_10_bn (BatchNormaliz (None, 2, 2, 512)         2048      \n",
            "_________________________________________________________________\n",
            "conv_dw_10_relu (ReLU)       (None, 2, 2, 512)         0         \n",
            "_________________________________________________________________\n",
            "conv_pw_10 (Conv2D)          (None, 2, 2, 512)         262144    \n",
            "_________________________________________________________________\n",
            "conv_pw_10_bn (BatchNormaliz (None, 2, 2, 512)         2048      \n",
            "_________________________________________________________________\n",
            "conv_pw_10_relu (ReLU)       (None, 2, 2, 512)         0         \n",
            "_________________________________________________________________\n",
            "conv_dw_11 (DepthwiseConv2D) (None, 2, 2, 512)         4608      \n",
            "_________________________________________________________________\n",
            "conv_dw_11_bn (BatchNormaliz (None, 2, 2, 512)         2048      \n",
            "_________________________________________________________________\n",
            "conv_dw_11_relu (ReLU)       (None, 2, 2, 512)         0         \n",
            "_________________________________________________________________\n",
            "conv_pw_11 (Conv2D)          (None, 2, 2, 512)         262144    \n",
            "_________________________________________________________________\n",
            "conv_pw_11_bn (BatchNormaliz (None, 2, 2, 512)         2048      \n",
            "_________________________________________________________________\n",
            "conv_pw_11_relu (ReLU)       (None, 2, 2, 512)         0         \n",
            "_________________________________________________________________\n",
            "conv_pad_12 (ZeroPadding2D)  (None, 3, 3, 512)         0         \n",
            "_________________________________________________________________\n",
            "conv_dw_12 (DepthwiseConv2D) (None, 1, 1, 512)         4608      \n",
            "_________________________________________________________________\n",
            "conv_dw_12_bn (BatchNormaliz (None, 1, 1, 512)         2048      \n",
            "_________________________________________________________________\n",
            "conv_dw_12_relu (ReLU)       (None, 1, 1, 512)         0         \n",
            "_________________________________________________________________\n",
            "conv_pw_12 (Conv2D)          (None, 1, 1, 1024)        524288    \n",
            "_________________________________________________________________\n",
            "conv_pw_12_bn (BatchNormaliz (None, 1, 1, 1024)        4096      \n",
            "_________________________________________________________________\n",
            "conv_pw_12_relu (ReLU)       (None, 1, 1, 1024)        0         \n",
            "_________________________________________________________________\n",
            "conv_dw_13 (DepthwiseConv2D) (None, 1, 1, 1024)        9216      \n",
            "_________________________________________________________________\n",
            "conv_dw_13_bn (BatchNormaliz (None, 1, 1, 1024)        4096      \n",
            "_________________________________________________________________\n",
            "conv_dw_13_relu (ReLU)       (None, 1, 1, 1024)        0         \n",
            "_________________________________________________________________\n",
            "conv_pw_13 (Conv2D)          (None, 1, 1, 1024)        1048576   \n",
            "_________________________________________________________________\n",
            "conv_pw_13_bn (BatchNormaliz (None, 1, 1, 1024)        4096      \n",
            "_________________________________________________________________\n",
            "conv_pw_13_relu (ReLU)       (None, 1, 1, 1024)        0         \n",
            "_________________________________________________________________\n",
            "global_average_pooling2d (Gl (None, 1024)              0         \n",
            "_________________________________________________________________\n",
            "reshape_1 (Reshape)          (None, 1, 1, 1024)        0         \n",
            "_________________________________________________________________\n",
            "dropout (Dropout)            (None, 1, 1, 1024)        0         \n",
            "_________________________________________________________________\n",
            "conv_preds (Conv2D)          (None, 1, 1, 31)          31775     \n",
            "_________________________________________________________________\n",
            "act_softmax (Activation)     (None, 1, 1, 31)          0         \n",
            "_________________________________________________________________\n",
            "reshape_2 (Reshape)          (None, 31)                0         \n",
            "=================================================================\n",
            "Total params: 3,260,063\n",
            "Trainable params: 3,238,175\n",
            "Non-trainable params: 21,888\n",
            "_________________________________________________________________\n"
          ],
          "name": "stdout"
        }
      ]
    },
    {
      "metadata": {
        "id": "mDl_LaDXawOd",
        "colab_type": "code",
        "colab": {
          "base_uri": "https://localhost:8080/",
          "height": 376
        },
        "outputId": "332e8606-c990-4349-d4b3-125ff5c8a68a"
      },
      "cell_type": "code",
      "source": [
        "fig = plt.figure(1)  \n",
        "plt.plot(hist_mn.history['categorical_accuracy'])  \n",
        "plt.plot(hist_mn.history['val_categorical_accuracy'])  \n",
        "plt.title('MobileNet accuracy')  \n",
        "plt.ylabel('accuracy')  \n",
        "plt.xlabel('epoch')  \n",
        "plt.legend(['train', 'val'], loc='upper left')  \n",
        "plt.show() \n",
        "fig.savefig(\"mn_acc\")"
      ],
      "execution_count": 47,
      "outputs": [
        {
          "output_type": "display_data",
          "data": {
            "image/png": "[encoded data removed]",
            "text/plain": [
              "<matplotlib.figure.Figure at 0x7fc4af6c4898>"
            ]
          },
          "metadata": {
            "tags": []
          }
        }
      ]
    },
    {
      "metadata": {
        "id": "JjBhQD8EawL2",
        "colab_type": "code",
        "colab": {
          "base_uri": "https://localhost:8080/",
          "height": 376
        },
        "outputId": "7f66107b-fbda-40ba-c891-74c14b596027"
      },
      "cell_type": "code",
      "source": [
        "fig = plt.figure(1)  \n",
        "plt.plot(hist_mn.history['loss'])  \n",
        "plt.plot(hist_mn.history['val_loss'])  \n",
        "plt.title('MobileNet loss')  \n",
        "plt.ylabel('loss')  \n",
        "plt.xlabel('epoch')  \n",
        "plt.legend(['train', 'val'], loc='lower left')  \n",
        "plt.show() \n",
        "fig.savefig(\"mn_loss\")"
      ],
      "execution_count": 48,
      "outputs": [
        {
          "output_type": "display_data",
          "data": {
            "image/png": "[encoded data removed]",
            "text/plain": [
              "<matplotlib.figure.Figure at 0x7fc4af7a2b70>"
            ]
          },
          "metadata": {
            "tags": []
          }
        }
      ]
    },
    {
      "metadata": {
        "id": "hdkSZI2NrRAQ",
        "colab_type": "code",
        "colab": {}
      },
      "cell_type": "code",
      "source": [
        ""
      ],
      "execution_count": 0,
      "outputs": []
    },
    {
      "metadata": {
        "id": "6jW2SJXAu0Um",
        "colab_type": "code",
        "outputId": "2d12a705-bb59-4e11-a83c-f19af167df14",
        "colab": {
          "base_uri": "https://localhost:8080/",
          "height": 105
        }
      },
      "cell_type": "code",
      "source": [
        "test = []\n",
        "for c, img in enumerate(X_test):\n",
        "    img = img.reshape(100, 100)\n",
        "    test.append(remove_noise(img, 100).flatten())\n",
        "    \n",
        "for c, img in enumerate(test):\n",
        "    test[c] = np.array(img)\n",
        "test = np.array(test)\n"
      ],
      "execution_count": 14,
      "outputs": [
        {
          "output_type": "stream",
          "text": [
            "/usr/local/lib/python3.6/dist-packages/skimage/util/dtype.py:118: UserWarning: Possible sign loss when converting negative image of type float64 to positive image of type bool.\n",
            "  .format(dtypeobj_in, dtypeobj_out))\n",
            "/usr/local/lib/python3.6/dist-packages/skimage/util/dtype.py:122: UserWarning: Possible precision loss when converting from float64 to bool\n",
            "  .format(dtypeobj_in, dtypeobj_out))\n"
          ],
          "name": "stderr"
        }
      ]
    },
    {
      "metadata": {
        "id": "hW-CTFsrLpaQ",
        "colab_type": "code",
        "colab": {}
      },
      "cell_type": "code",
      "source": [
        "X_test_cropped = center_image(test, X_test, show_image=False)"
      ],
      "execution_count": 0,
      "outputs": []
    },
    {
      "metadata": {
        "id": "gtCICMzUKlQY",
        "colab_type": "code",
        "colab": {}
      },
      "cell_type": "code",
      "source": [
        "test_x = X_test_cropped\n",
        "if K.image_data_format() == 'channels_first':\n",
        "    test_x = test_x.reshape(test_x.shape[0], 1, img_rows, img_cols)\n",
        "    input_shape = (1, img_rows, img_cols)\n",
        "else:\n",
        "    test_x = test_x.reshape(test_x.shape[0], img_rows, img_cols, 1)\n",
        "    input_shape = (img_rows, img_cols, 1)\n",
        "test_x = test_x.astype('float32')\n",
        "test_x /= 255"
      ],
      "execution_count": 0,
      "outputs": []
    },
    {
      "metadata": {
        "id": "s5zJH74T1HaC",
        "colab_type": "code",
        "outputId": "4ba38fe0-7fcd-41f2-9f28-c7e0f9de2c3b",
        "colab": {
          "base_uri": "https://localhost:8080/",
          "height": 51
        }
      },
      "cell_type": "code",
      "source": [
        "prediction_mn = model_mn.predict(test_x, batch_size=1, verbose=1)\n",
        "prediction_cnn = model.predict(test_x, batch_size=1, verbose=1)"
      ],
      "execution_count": 40,
      "outputs": [
        {
          "output_type": "stream",
          "text": [
            "10000/10000 [==============================] - 64s 6ms/step\n",
            "10000/10000 [==============================] - 28s 3ms/step\n"
          ],
          "name": "stdout"
        }
      ]
    },
    {
      "metadata": {
        "id": "-07X1XH94bAi",
        "colab_type": "code",
        "colab": {}
      },
      "cell_type": "code",
      "source": [
        "sum_ = prediction_cnn + prediction_mn + prediction_cnn_2\n",
        "sum_ = np.argmax(sum_,axis=1)"
      ],
      "execution_count": 0,
      "outputs": []
    },
    {
      "metadata": {
        "id": "oHZ9Iqua4bHO",
        "colab_type": "code",
        "colab": {}
      },
      "cell_type": "code",
      "source": [
        "labels_df = pd.read_csv(path_to_labels)\n",
        "labels_df.Category = pd.Categorical(labels_df.Category)\n",
        "cat_map = pd.Categorical(labels_df.Category)\n",
        "cat_map = cat_map.categories\n",
        "result_sum = []\n",
        "for index, image in enumerate(sum_):\n",
        "  result_sum.append(cat_map[image])\n",
        "  \n",
        "result_sum = pd.DataFrame(result_sum)\n",
        "result_sum = result_sum.reset_index(drop=False)\n",
        "result_sum.columns=['Id', 'Category']\n",
        "result_sum.to_csv('result_sum.csv', index=False)"
      ],
      "execution_count": 0,
      "outputs": []
    },
    {
      "metadata": {
        "id": "4gMQ7BlsMl59",
        "colab_type": "code",
        "colab": {}
      },
      "cell_type": "code",
      "source": [
        "import pandas as pd\n",
        "result_cnn, result_mn = [], []\n",
        "labels_df = pd.read_csv(path_to_labels)\n",
        "labels_df.Category = pd.Categorical(labels_df.Category)\n",
        "cat_map = pd.Categorical(labels_df.Category)\n",
        "cat_map = cat_map.categories\n",
        "\n",
        "cnn_expected = np.argmax(prediction_cnn,axis=1)\n",
        "mn_expected = np.argmax(prediction_mn,axis=1)\n",
        "\n",
        "for index, image in enumerate(cnn_expected):\n",
        "  result_cnn.append(cat_map[image])\n",
        "\n",
        "result_cnn = pd.DataFrame(result_cnn)\n",
        "result_cnn = result_cnn.reset_index(drop=False)\n",
        "result_cnn.columns=['Id', 'Category']\n",
        "result_cnn.to_csv('result_cnn.csv', index=False)\n",
        "\n",
        "\n",
        "\n",
        "for index, image in enumerate(mn_expected):\n",
        "  result_mn.append(cat_map[image])\n",
        "  \n",
        "result_mn = pd.DataFrame(result_mn)\n",
        "result_mn = result_mn.reset_index(drop=False)\n",
        "result_mn.columns=['Id', 'Category']\n",
        "result_mn.to_csv('result_mn.csv', index=False)"
      ],
      "execution_count": 0,
      "outputs": []
    },
    {
      "metadata": {
        "id": "Dj2teD1NFXSp",
        "colab_type": "code",
        "colab": {
          "base_uri": "https://localhost:8080/",
          "height": 1550
        },
        "outputId": "131c3a1b-12f6-486b-cbb7-3f8e5e78de67"
      },
      "cell_type": "code",
      "source": [
        "from __future__ import print_function\n",
        "import keras\n",
        "from keras.models import Sequential\n",
        "from keras.layers import Dense, Dropout, Flatten\n",
        "from keras.layers import Conv2D, MaxPooling2D, BatchNormalization\n",
        "from keras import backend as K\n",
        "from keras.callbacks import ReduceLROnPlateau\n",
        "from keras.preprocessing.image import ImageDataGenerator\n",
        "\n",
        "batch_size = 64\n",
        "num_classes = 31\n",
        "epochs = 40\n",
        "\n",
        "# input image dimensions\n",
        "img_rows, img_cols = 40, 40\n",
        "# the data, split between train and val sets\n",
        "(x_train, y_train), (x_val, y_val) = (X_cropped[:9488],y[:9488]), (X_cropped[9488:],y[9488:]) \n",
        "if K.image_data_format() == 'channels_first':\n",
        "    x_train = x_train.reshape(x_train.shape[0], 1, img_rows, img_cols)\n",
        "    x_val = x_val.reshape(x_val.shape[0], 1, img_rows, img_cols)\n",
        "    input_shape = (1, img_rows, img_cols)\n",
        "else:\n",
        "    x_train = x_train.reshape(x_train.shape[0], img_rows, img_cols, 1)\n",
        "    x_val = x_val.reshape(x_val.shape[0], img_rows, img_cols, 1)\n",
        "    input_shape = (img_rows, img_cols, 1)\n",
        "x_train = x_train.astype('float32')\n",
        "x_val = x_val.astype('float32')\n",
        "\n",
        "\n",
        "x_train /= 255\n",
        "x_val /= 255\n",
        "\n",
        "print('x_train shape:', x_train.shape)\n",
        "print(x_train.shape[0], 'train samples')\n",
        "print(x_val.shape[0], 'val samples')\n",
        "\n",
        "# convert class vectors to binary class matrices\n",
        "y_train = keras.utils.to_categorical(y_train, num_classes)\n",
        "y_val = keras.utils.to_categorical(y_val, num_classes)\n",
        "print(y_train[3])\n",
        "datagen = ImageDataGenerator(\n",
        "    rotation_range=20,\n",
        "    width_shift_range=0.2,\n",
        "    height_shift_range=0.2,\n",
        "    shear_range=0.1,\n",
        "    zoom_range=0.1,\n",
        "    horizontal_flip=True,\n",
        "    fill_mode='nearest')\n",
        "\n",
        "datagen.fit(x_train)\n",
        "val_datagen = ImageDataGenerator()\n",
        "val_datagen.fit(x_val)\n",
        "train_generator = datagen.flow(x_train, y_train, batch_size=batch_size)\n",
        "validation_generator = val_datagen.flow(x_val, y_val, batch_size=batch_size)\n",
        "\n",
        "model_cnn_2 = Sequential()\n",
        "model_cnn_2.add(Conv2D(32, (3, 3), activation='relu',input_shape=input_shape))\n",
        "model_cnn_2.add(BatchNormalization())\n",
        "model_cnn_2.add(Conv2D(32, (3, 3), activation='relu'))\n",
        "model_cnn_2.add(BatchNormalization())\n",
        "model_cnn_2.add(MaxPooling2D(pool_size=(2, 2)))\n",
        "model_cnn_2.add(Dropout(0.1))\n",
        "\n",
        "model_cnn_2.add(Conv2D(64, (3, 3), padding='same', activation='relu'))\n",
        "model_cnn_2.add(BatchNormalization())\n",
        "model_cnn_2.add(Conv2D(64, (3, 3), activation='relu'))\n",
        "model_cnn_2.add(BatchNormalization())\n",
        "model_cnn_2.add(MaxPooling2D(pool_size=(2, 2)))\n",
        "model_cnn_2.add(Dropout(0.1))\n",
        "\n",
        "model_cnn_2.add(Conv2D(128, (3, 3), padding='same', activation='relu'))\n",
        "model_cnn_2.add(BatchNormalization())\n",
        "model_cnn_2.add(Conv2D(128, (3, 3), activation='relu'))\n",
        "model_cnn_2.add(BatchNormalization())\n",
        "model_cnn_2.add(MaxPooling2D(pool_size=(2, 2)))\n",
        "model_cnn_2.add(Dropout(0.1))\n",
        "\n",
        "model_cnn_2.add(Flatten())\n",
        "model_cnn_2.add(Dense(512, activation='relu'))\n",
        "model_cnn_2.add(Dropout(0.3))\n",
        "model_cnn_2.add(Dense(num_classes, activation='softmax'))\n",
        "\n",
        "optimizer = keras.optimizers.Nadam(lr=0.002,\n",
        "                  beta_1=0.9,\n",
        "                  beta_2=0.999,\n",
        "                  epsilon=1e-08,\n",
        "                  schedule_decay=0.004)\n",
        "\n",
        "# Set our optimizer and loss function (similar settings to our CAE approach)\n",
        "model_cnn_2.compile(loss = keras.losses.categorical_crossentropy,\n",
        "            optimizer = optimizer,\n",
        "            metrics = ['categorical_accuracy'])\n",
        "\n",
        "callbacks = [\n",
        "    ReduceLROnPlateau(monitor='val_categorical_accuracy', \n",
        "                      factor=0.1, patience=5,\n",
        "                      min_delta=0.0001, mode='auto',\n",
        "                      cooldown=0, verbose=1, \n",
        "                      min_lr=0),\n",
        "]\n",
        "hist_cnn_2 = model_cnn_2.fit_generator(train_generator,\n",
        "          steps_per_epoch= 14000 // batch_size,\n",
        "          epochs=epochs,\n",
        "          verbose=1, \n",
        "          validation_data=(x_val, y_val),\n",
        "          callbacks = callbacks,\n",
        "          )\n",
        "\n",
        "\n",
        "score = model_cnn_2.evaluate(x_val, y_val, verbose=0)\n",
        "print('Test loss:', score[0])\n",
        "print('Test accuracy:', score[1])"
      ],
      "execution_count": 22,
      "outputs": [
        {
          "output_type": "stream",
          "text": [
            "x_train shape: (9488, 40, 40, 1)\n",
            "9488 train samples\n",
            "512 val samples\n",
            "[1. 0. 0. 0. 0. 0. 0. 0. 0. 0. 0. 0. 0. 0. 0. 0. 0. 0. 0. 0. 0. 0. 0. 0.\n",
            " 0. 0. 0. 0. 0. 0. 0.]\n",
            "Epoch 1/40\n",
            "218/218 [==============================] - 13s 62ms/step - loss: 2.8335 - categorical_accuracy: 0.2345 - val_loss: 2.0656 - val_categorical_accuracy: 0.4023\n",
            "Epoch 2/40\n",
            "218/218 [==============================] - 12s 54ms/step - loss: 2.1724 - categorical_accuracy: 0.3713 - val_loss: 1.9359 - val_categorical_accuracy: 0.4375\n",
            "Epoch 3/40\n",
            "218/218 [==============================] - 11s 53ms/step - loss: 1.9351 - categorical_accuracy: 0.4453 - val_loss: 1.5863 - val_categorical_accuracy: 0.5859\n",
            "Epoch 4/40\n",
            "218/218 [==============================] - 12s 53ms/step - loss: 1.7518 - categorical_accuracy: 0.5032 - val_loss: 1.4532 - val_categorical_accuracy: 0.5820\n",
            "Epoch 5/40\n",
            "218/218 [==============================] - 12s 54ms/step - loss: 1.6432 - categorical_accuracy: 0.5321 - val_loss: 1.5993 - val_categorical_accuracy: 0.5586\n",
            "Epoch 6/40\n",
            "218/218 [==============================] - 12s 53ms/step - loss: 1.5462 - categorical_accuracy: 0.5624 - val_loss: 1.2889 - val_categorical_accuracy: 0.6562\n",
            "Epoch 7/40\n",
            "218/218 [==============================] - 11s 53ms/step - loss: 1.4536 - categorical_accuracy: 0.5888 - val_loss: 1.2548 - val_categorical_accuracy: 0.6562\n",
            "Epoch 8/40\n",
            "218/218 [==============================] - 12s 53ms/step - loss: 1.3962 - categorical_accuracy: 0.6054 - val_loss: 1.2706 - val_categorical_accuracy: 0.6367\n",
            "Epoch 9/40\n",
            "218/218 [==============================] - 12s 53ms/step - loss: 1.3419 - categorical_accuracy: 0.6213 - val_loss: 1.1529 - val_categorical_accuracy: 0.6777\n",
            "Epoch 10/40\n",
            "218/218 [==============================] - 11s 53ms/step - loss: 1.2782 - categorical_accuracy: 0.6420 - val_loss: 1.2378 - val_categorical_accuracy: 0.6719\n",
            "Epoch 11/40\n",
            "218/218 [==============================] - 12s 55ms/step - loss: 1.2442 - categorical_accuracy: 0.6516 - val_loss: 1.0474 - val_categorical_accuracy: 0.7090\n",
            "Epoch 12/40\n",
            "218/218 [==============================] - 12s 55ms/step - loss: 1.1968 - categorical_accuracy: 0.6655 - val_loss: 1.0718 - val_categorical_accuracy: 0.7266\n",
            "Epoch 13/40\n",
            "218/218 [==============================] - 12s 56ms/step - loss: 1.1720 - categorical_accuracy: 0.6742 - val_loss: 1.0692 - val_categorical_accuracy: 0.7129\n",
            "Epoch 14/40\n",
            "218/218 [==============================] - 12s 56ms/step - loss: 1.1197 - categorical_accuracy: 0.6873 - val_loss: 0.9289 - val_categorical_accuracy: 0.7500\n",
            "Epoch 15/40\n",
            "218/218 [==============================] - 12s 57ms/step - loss: 1.1313 - categorical_accuracy: 0.6815 - val_loss: 1.1502 - val_categorical_accuracy: 0.6836\n",
            "Epoch 16/40\n",
            "218/218 [==============================] - 12s 56ms/step - loss: 1.0705 - categorical_accuracy: 0.6962 - val_loss: 0.9930 - val_categorical_accuracy: 0.7383\n",
            "Epoch 17/40\n",
            "218/218 [==============================] - 12s 56ms/step - loss: 1.0496 - categorical_accuracy: 0.7045 - val_loss: 1.0756 - val_categorical_accuracy: 0.7168\n",
            "Epoch 18/40\n",
            "218/218 [==============================] - 12s 56ms/step - loss: 1.0367 - categorical_accuracy: 0.7065 - val_loss: 1.2623 - val_categorical_accuracy: 0.7148\n",
            "Epoch 19/40\n",
            "218/218 [==============================] - 12s 56ms/step - loss: 1.0051 - categorical_accuracy: 0.7130 - val_loss: 0.9235 - val_categorical_accuracy: 0.7637\n",
            "Epoch 20/40\n",
            "218/218 [==============================] - 12s 57ms/step - loss: 0.9920 - categorical_accuracy: 0.7162 - val_loss: 1.2319 - val_categorical_accuracy: 0.7246\n",
            "Epoch 21/40\n",
            "218/218 [==============================] - 12s 57ms/step - loss: 0.9891 - categorical_accuracy: 0.7209 - val_loss: 0.9078 - val_categorical_accuracy: 0.7539\n",
            "Epoch 22/40\n",
            "218/218 [==============================] - 12s 57ms/step - loss: 0.9519 - categorical_accuracy: 0.7322 - val_loss: 0.8708 - val_categorical_accuracy: 0.7734\n",
            "Epoch 23/40\n",
            "218/218 [==============================] - 12s 56ms/step - loss: 0.9594 - categorical_accuracy: 0.7261 - val_loss: 0.8777 - val_categorical_accuracy: 0.7559\n",
            "Epoch 24/40\n",
            "218/218 [==============================] - 12s 56ms/step - loss: 0.9203 - categorical_accuracy: 0.7387 - val_loss: 0.8114 - val_categorical_accuracy: 0.7832\n",
            "Epoch 25/40\n",
            "218/218 [==============================] - 12s 56ms/step - loss: 0.9112 - categorical_accuracy: 0.7391 - val_loss: 0.8747 - val_categorical_accuracy: 0.7520\n",
            "Epoch 26/40\n",
            "218/218 [==============================] - 11s 53ms/step - loss: 0.9018 - categorical_accuracy: 0.7453 - val_loss: 0.8620 - val_categorical_accuracy: 0.7520\n",
            "Epoch 27/40\n",
            "218/218 [==============================] - 11s 52ms/step - loss: 0.8848 - categorical_accuracy: 0.7493 - val_loss: 0.8107 - val_categorical_accuracy: 0.7852\n",
            "Epoch 28/40\n",
            "218/218 [==============================] - 11s 52ms/step - loss: 0.8812 - categorical_accuracy: 0.7478 - val_loss: 0.7647 - val_categorical_accuracy: 0.7812\n",
            "Epoch 29/40\n",
            "218/218 [==============================] - 12s 54ms/step - loss: 0.8650 - categorical_accuracy: 0.7548 - val_loss: 0.7987 - val_categorical_accuracy: 0.7930\n",
            "Epoch 30/40\n",
            "218/218 [==============================] - 12s 54ms/step - loss: 0.8501 - categorical_accuracy: 0.7573 - val_loss: 0.7966 - val_categorical_accuracy: 0.7852\n",
            "Epoch 31/40\n",
            "218/218 [==============================] - 12s 53ms/step - loss: 0.8616 - categorical_accuracy: 0.7539 - val_loss: 0.8571 - val_categorical_accuracy: 0.7852\n",
            "Epoch 32/40\n",
            "218/218 [==============================] - 11s 52ms/step - loss: 0.8306 - categorical_accuracy: 0.7611 - val_loss: 0.7622 - val_categorical_accuracy: 0.7891\n",
            "Epoch 33/40\n",
            "218/218 [==============================] - 11s 52ms/step - loss: 0.8377 - categorical_accuracy: 0.7610 - val_loss: 0.8823 - val_categorical_accuracy: 0.7637\n",
            "Epoch 34/40\n",
            "218/218 [==============================] - 12s 53ms/step - loss: 0.8238 - categorical_accuracy: 0.7634 - val_loss: 0.8722 - val_categorical_accuracy: 0.7793\n",
            "\n",
            "Epoch 00034: ReduceLROnPlateau reducing learning rate to 0.00020000000949949026.\n",
            "Epoch 35/40\n",
            "218/218 [==============================] - 11s 52ms/step - loss: 0.7619 - categorical_accuracy: 0.7772 - val_loss: 0.7297 - val_categorical_accuracy: 0.8164\n",
            "Epoch 36/40\n",
            "218/218 [==============================] - 11s 52ms/step - loss: 0.7297 - categorical_accuracy: 0.7850 - val_loss: 0.7207 - val_categorical_accuracy: 0.8184\n",
            "Epoch 37/40\n",
            "218/218 [==============================] - 11s 52ms/step - loss: 0.6982 - categorical_accuracy: 0.7968 - val_loss: 0.7242 - val_categorical_accuracy: 0.8145\n",
            "Epoch 38/40\n",
            "218/218 [==============================] - 12s 53ms/step - loss: 0.6983 - categorical_accuracy: 0.7955 - val_loss: 0.7073 - val_categorical_accuracy: 0.8164\n",
            "Epoch 39/40\n",
            "218/218 [==============================] - 11s 52ms/step - loss: 0.6926 - categorical_accuracy: 0.7983 - val_loss: 0.7065 - val_categorical_accuracy: 0.8262\n",
            "Epoch 40/40\n",
            "218/218 [==============================] - 12s 53ms/step - loss: 0.6869 - categorical_accuracy: 0.8001 - val_loss: 0.7074 - val_categorical_accuracy: 0.8203\n",
            "Test loss: 0.7074102703481913\n",
            "Test accuracy: 0.8203125\n"
          ],
          "name": "stdout"
        }
      ]
    },
    {
      "metadata": {
        "id": "wj-fBaIqYZWe",
        "colab_type": "code",
        "colab": {
          "base_uri": "https://localhost:8080/",
          "height": 884
        },
        "outputId": "6890c435-0f45-45c8-b6c7-dc6dc5714a61"
      },
      "cell_type": "code",
      "source": [
        "model_cnn_2.summary()"
      ],
      "execution_count": 44,
      "outputs": [
        {
          "output_type": "stream",
          "text": [
            "_________________________________________________________________\n",
            "Layer (type)                 Output Shape              Param #   \n",
            "=================================================================\n",
            "conv2d_7 (Conv2D)            (None, 38, 38, 32)        320       \n",
            "_________________________________________________________________\n",
            "batch_normalization_7 (Batch (None, 38, 38, 32)        128       \n",
            "_________________________________________________________________\n",
            "conv2d_8 (Conv2D)            (None, 36, 36, 32)        9248      \n",
            "_________________________________________________________________\n",
            "batch_normalization_8 (Batch (None, 36, 36, 32)        128       \n",
            "_________________________________________________________________\n",
            "max_pooling2d_4 (MaxPooling2 (None, 18, 18, 32)        0         \n",
            "_________________________________________________________________\n",
            "dropout_5 (Dropout)          (None, 18, 18, 32)        0         \n",
            "_________________________________________________________________\n",
            "conv2d_9 (Conv2D)            (None, 18, 18, 64)        18496     \n",
            "_________________________________________________________________\n",
            "batch_normalization_9 (Batch (None, 18, 18, 64)        256       \n",
            "_________________________________________________________________\n",
            "conv2d_10 (Conv2D)           (None, 16, 16, 64)        36928     \n",
            "_________________________________________________________________\n",
            "batch_normalization_10 (Batc (None, 16, 16, 64)        256       \n",
            "_________________________________________________________________\n",
            "max_pooling2d_5 (MaxPooling2 (None, 8, 8, 64)          0         \n",
            "_________________________________________________________________\n",
            "dropout_6 (Dropout)          (None, 8, 8, 64)          0         \n",
            "_________________________________________________________________\n",
            "conv2d_11 (Conv2D)           (None, 8, 8, 128)         73856     \n",
            "_________________________________________________________________\n",
            "batch_normalization_11 (Batc (None, 8, 8, 128)         512       \n",
            "_________________________________________________________________\n",
            "conv2d_12 (Conv2D)           (None, 6, 6, 128)         147584    \n",
            "_________________________________________________________________\n",
            "batch_normalization_12 (Batc (None, 6, 6, 128)         512       \n",
            "_________________________________________________________________\n",
            "max_pooling2d_6 (MaxPooling2 (None, 3, 3, 128)         0         \n",
            "_________________________________________________________________\n",
            "dropout_7 (Dropout)          (None, 3, 3, 128)         0         \n",
            "_________________________________________________________________\n",
            "flatten_2 (Flatten)          (None, 1152)              0         \n",
            "_________________________________________________________________\n",
            "dense_3 (Dense)              (None, 512)               590336    \n",
            "_________________________________________________________________\n",
            "dropout_8 (Dropout)          (None, 512)               0         \n",
            "_________________________________________________________________\n",
            "dense_4 (Dense)              (None, 31)                15903     \n",
            "=================================================================\n",
            "Total params: 894,463\n",
            "Trainable params: 893,567\n",
            "Non-trainable params: 896\n",
            "_________________________________________________________________\n"
          ],
          "name": "stdout"
        }
      ]
    },
    {
      "metadata": {
        "id": "FMBjQhbuGrAf",
        "colab_type": "code",
        "colab": {
          "base_uri": "https://localhost:8080/",
          "height": 34
        },
        "outputId": "8696b69c-353c-49b3-a765-f5850047ecf4"
      },
      "cell_type": "code",
      "source": [
        "prediction_cnn_2 = model_cnn_2.predict(test_x, batch_size=1, verbose=1)"
      ],
      "execution_count": 23,
      "outputs": [
        {
          "output_type": "stream",
          "text": [
            "10000/10000 [==============================] - 32s 3ms/step\n"
          ],
          "name": "stdout"
        }
      ]
    },
    {
      "metadata": {
        "id": "bjnFq5BBMcg8",
        "colab_type": "code",
        "colab": {
          "base_uri": "https://localhost:8080/",
          "height": 34
        },
        "outputId": "8fd08973-ca9b-4d54-f211-e3dda146a5f7"
      },
      "cell_type": "code",
      "source": [
        "result_cnn_2 = []\n",
        "labels_df = pd.read_csv(path_to_labels)\n",
        "labels_df.Category = pd.Categorical(labels_df.Category)\n",
        "cat_map = pd.Categorical(labels_df.Category)\n",
        "cat_map = cat_map.categories\n",
        "\n",
        "cnn_expected_2 = np.argmax(prediction_cnn_2,axis=1)\n",
        "print(cnn_expected_2)\n",
        "for index, image in enumerate(cnn_expected_2):\n",
        "  result_cnn_2.append(cat_map[image])\n",
        "\n",
        "result_cnn_2 = pd.DataFrame(result_cnn_2)\n",
        "result_cnn_2 = result_cnn_2.reset_index(drop=False)\n",
        "result_cnn_2.columns=['Id', 'Category']\n",
        "result_cnn_2.to_csv('result_cnn_2.csv', index=False)"
      ],
      "execution_count": 26,
      "outputs": [
        {
          "output_type": "stream",
          "text": [
            "[16 12 17 ... 27 16  4]\n"
          ],
          "name": "stdout"
        }
      ]
    },
    {
      "metadata": {
        "id": "YKTk4DX0N6tI",
        "colab_type": "code",
        "colab": {
          "base_uri": "https://localhost:8080/",
          "height": 376
        },
        "outputId": "d69bb730-de85-4b85-c57b-445fc7a959f2"
      },
      "cell_type": "code",
      "source": [
        "fig = plt.figure(1)  \n",
        "plt.plot(hist_cnn_2.history['categorical_accuracy'])  \n",
        "plt.plot(hist_cnn_2.history['val_categorical_accuracy'])  \n",
        "plt.title('CNN accuracy')  \n",
        "plt.ylabel('accuracy')  \n",
        "plt.xlabel('epoch')  \n",
        "plt.legend(['train', 'val'], loc='upper left')  \n",
        "plt.show() \n",
        "fig.savefig(\"cnn2_acc\")"
      ],
      "execution_count": 49,
      "outputs": [
        {
          "output_type": "display_data",
          "data": {
            "image/png": "[encoded data removed]",
            "text/plain": [
              "<matplotlib.figure.Figure at 0x7fc4af7ce3c8>"
            ]
          },
          "metadata": {
            "tags": []
          }
        }
      ]
    },
    {
      "metadata": {
        "id": "z_tgcGddN9gx",
        "colab_type": "code",
        "colab": {
          "base_uri": "https://localhost:8080/",
          "height": 376
        },
        "outputId": "d1cc360c-c955-4067-a2c8-dc9ffc570d38"
      },
      "cell_type": "code",
      "source": [
        "fig = plt.figure(1)  \n",
        "plt.plot(hist_cnn_2.history['loss'])  \n",
        "plt.plot(hist_cnn_2.history['val_loss'])  \n",
        "plt.title('CNN loss')  \n",
        "plt.ylabel('loss')  \n",
        "plt.xlabel('epoch')  \n",
        "plt.legend(['train', 'val'], loc='lower left')  \n",
        "plt.show() \n",
        "fig.savefig(\"cnn2_loss\")"
      ],
      "execution_count": 50,
      "outputs": [
        {
          "output_type": "display_data",
          "data": {
            "image/png": "[encoded data removed]",
            "text/plain": [
              "<matplotlib.figure.Figure at 0x7fc4af667668>"
            ]
          },
          "metadata": {
            "tags": []
          }
        }
      ]
    },
    {
      "metadata": {
        "id": "ePQA7CY3O692",
        "colab_type": "code",
        "colab": {}
      },
      "cell_type": "code",
      "source": [
        ""
      ],
      "execution_count": 0,
      "outputs": []
    }
  ]
}