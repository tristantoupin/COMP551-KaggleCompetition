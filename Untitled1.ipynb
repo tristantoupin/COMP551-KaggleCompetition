{
  "nbformat": 4,
  "nbformat_minor": 0,
  "metadata": {
    "colab": {
      "name": "Untitled1.ipynb",
      "version": "0.3.2",
      "provenance": [],
      "include_colab_link": true
    },
    "kernelspec": {
      "name": "python3",
      "display_name": "Python 3"
    }
  },
  "cells": [
    {
      "cell_type": "markdown",
      "metadata": {
        "id": "view-in-github",
        "colab_type": "text"
      },
      "source": [
        "<a href=\"https://colab.research.google.com/github/tristantoupin/COMP551-KaggleCompetition/blob/master/Untitled1.ipynb\" target=\"_parent\"><img src=\"https://colab.research.google.com/assets/colab-badge.svg\" alt=\"Open In Colab\"/></a>"
      ]
    },
    {
      "metadata": {
        "id": "clBKYJJt55bX",
        "colab_type": "code",
        "colab": {}
      },
      "cell_type": "code",
      "source": [
        "import numpy as np\n",
        "import pandas as pd\n",
        "from sklearn.model_selection import train_test_split"
      ],
      "execution_count": 0,
      "outputs": []
    },
    {
      "metadata": {
        "id": "PFqQO8xd54Fz",
        "colab_type": "code",
        "colab": {}
      },
      "cell_type": "code",
      "source": [
        "path_to_data = \"./gdrive/My Drive/Mcgill/U4/Fall 2018/COMP 551/kaggle/data/train_images.npy\"\n",
        "path_to_labels = \"./gdrive/My Drive/Mcgill/U4/Fall 2018/COMP 551/kaggle/data/train_labels.csv\"\n",
        "path_to_test = \"./gdrive/My Drive/Mcgill/U4/Fall 2018/COMP 551/kaggle/data/test_images.npy\""
      ],
      "execution_count": 0,
      "outputs": []
    },
    {
      "metadata": {
        "id": "8wlTquqX6Xeh",
        "colab_type": "code",
        "colab": {}
      },
      "cell_type": "code",
      "source": [
        "def get_data(path_x, path_y):\n",
        "  data = np.load(path_x, encoding = 'bytes')\n",
        "  labels_df = pd.read_csv(path_y)\n",
        "  labels_df.Category = pd.Categorical(labels_df.Category)\n",
        "  y = labels_df.Category.cat.codes.values\n",
        "  X = list(data[:, 1])\n",
        "  return X, y"
      ],
      "execution_count": 0,
      "outputs": []
    },
    {
      "metadata": {
        "id": "wcf0s81X59h9",
        "colab_type": "code",
        "colab": {
          "base_uri": "https://localhost:8080/",
          "height": 68
        },
        "outputId": "e6648401-f90d-4262-a624-6aff5ff4337e"
      },
      "cell_type": "code",
      "source": [
        "X_train, y_train = get_data(path_to_data, path_to_labels)\n",
        "print(\"Shape of training dataset:\", len(X_train))\n",
        "X_test = list(np.load(path_to_test, encoding = 'bytes')[:, 1])\n",
        "print(\"Shape of testing dataset:\", len(X_test))\n",
        "unique_classes = set(y_train)\n",
        "print(\"Number of classes:\", len(unique_classes))"
      ],
      "execution_count": 37,
      "outputs": [
        {
          "output_type": "stream",
          "text": [
            "Shape of training dataset: 10000\n",
            "Shape of testing dataset: 10000\n",
            "Number of classes is: 31\n"
          ],
          "name": "stdout"
        }
      ]
    },
    {
      "metadata": {
        "id": "lInNPPBi59kk",
        "colab_type": "code",
        "colab": {}
      },
      "cell_type": "code",
      "source": [
        "x_tr, x_val, y_tr, y_val = train_test_split(X_train, y_train, test_size=0.10, random_state=42)"
      ],
      "execution_count": 0,
      "outputs": []
    },
    {
      "metadata": {
        "id": "usZR0t6W59n2",
        "colab_type": "code",
        "colab": {}
      },
      "cell_type": "code",
      "source": [
        "# parameters\n",
        "learning_rates = [1e-4, 1e-3, 1e-2, 1e-1]\n",
        "nodes = [50, 100, 1000, 10000, 12000]\n",
        "layers = [1, 2, 3, 4]\n",
        "batch_size = [1/100, 1/10, 1]\n",
        "activation = ['sigmoid', 'tanh', 'relu']"
      ],
      "execution_count": 0,
      "outputs": []
    },
    {
      "metadata": {
        "id": "amsbdfbdDicA",
        "colab_type": "code",
        "colab": {}
      },
      "cell_type": "code",
      "source": [
        "X = np.array([[0, 0, 1], [1, 1, 1], [1, 0, 1], [0, 1, 1]])\n",
        "y = np.array([[0, 1, 1, 0]]).T"
      ],
      "execution_count": 0,
      "outputs": []
    },
    {
      "metadata": {
        "id": "RPkmboZeDuDu",
        "colab_type": "code",
        "colab": {}
      },
      "cell_type": "code",
      "source": [
        "class NN():\n",
        "  def __init__(self, learning_rate, n, b_size, activation, random_state = 1234):\n",
        "    np.random.seed(random_state)\n",
        "    \n",
        "    # init params\n",
        "    self.weights = 2 * np.random.random(n) - 1\n",
        "    self.batch_size = b_size\n",
        "    self.activation_fct = activation\n",
        "    self.learning_rate = learning_rate\n",
        "  \n",
        "  \n",
        "  def __sigmoid(self, x):\n",
        "    return 1 / (1 + np.exp(-x))\n",
        "  \n",
        "  \n",
        "  def __sigmoid_derivative(self, x):\n",
        "    return x * (1 - x)\n",
        "  \n",
        "  \n",
        "  def predict(self, inputs):\n",
        "    # Pass inputs through our neural network (our single neuron).\n",
        "#     output = inputs\n",
        "#     for l in self.weights:\n",
        "#       print(l.shape)\n",
        "#       print(output.shape)\n",
        "#       output = self.__sigmoid(np.dot(output, l))\n",
        "#     return output\n",
        "    print(inputs.shape)\n",
        "    print(self.weights[0].shape)\n",
        "    temp = self.__sigmoid(np.dot(inputs, self.weights[0]))\n",
        "    print(temp.shape)\n",
        "\n",
        "    return self.__sigmoid(np.dot(temp, self.weights[1]))\n",
        "\n",
        "  \n",
        "  \n",
        "  def train(self, xs, ys):\n",
        "    for i in range(5000):\n",
        "      # Predict\n",
        "      output = self.predict(xs)\n",
        "\n",
        "      # Calculate the error\n",
        "      error = ys - output\n",
        "      \n",
        "      adjustment = np.dot(xs.T, error * self.__sigmoid_derivative(output))\n",
        "      \n",
        "      if not(i % 1000):\n",
        "        print(i)\n",
        "        print(np.mean(np.abs(error)))\n",
        "        \n",
        "      # Adjust the weights.\n",
        "      self.weights += adjustment\n",
        "      \n",
        "      "
      ],
      "execution_count": 0,
      "outputs": []
    },
    {
      "metadata": {
        "id": "Tdyr7DPgE8Rf",
        "colab_type": "code",
        "colab": {}
      },
      "cell_type": "code",
      "source": [
        "nn = NN(1e-4, (2, 3, len([0, 1])), 256, 'sigmoid')"
      ],
      "execution_count": 0,
      "outputs": []
    },
    {
      "metadata": {
        "id": "wfIGMfSRL8RD",
        "colab_type": "code",
        "colab": {
          "base_uri": "https://localhost:8080/",
          "height": 136
        },
        "outputId": "13cf97ec-fbd6-4734-81c3-60c72a07e022"
      },
      "cell_type": "code",
      "source": [
        "nn.weights"
      ],
      "execution_count": 165,
      "outputs": [
        {
          "output_type": "execute_result",
          "data": {
            "text/plain": [
              "array([[[-0.6169611 ,  0.24421754],\n",
              "        [-0.12454452,  0.57071717],\n",
              "        [ 0.55995162, -0.45481479]],\n",
              "\n",
              "       [[-0.44707149,  0.60374436],\n",
              "        [ 0.91627871,  0.75186527],\n",
              "        [-0.28436546,  0.00199025]]])"
            ]
          },
          "metadata": {
            "tags": []
          },
          "execution_count": 165
        }
      ]
    },
    {
      "metadata": {
        "id": "ux87ZK2HE_k7",
        "colab_type": "code",
        "colab": {
          "base_uri": "https://localhost:8080/",
          "height": 453
        },
        "outputId": "6c71d753-4b76-4cd4-9b85-b4ddc980cc5b"
      },
      "cell_type": "code",
      "source": [
        "nn.train(X, y)"
      ],
      "execution_count": 166,
      "outputs": [
        {
          "output_type": "stream",
          "text": [
            "(4, 3)\n",
            "(3, 2)\n",
            "(4, 2)\n"
          ],
          "name": "stdout"
        },
        {
          "output_type": "error",
          "ename": "ValueError",
          "evalue": "ignored",
          "traceback": [
            "\u001b[0;31m---------------------------------------------------------------------------\u001b[0m",
            "\u001b[0;31mValueError\u001b[0m                                Traceback (most recent call last)",
            "\u001b[0;32m<ipython-input-166-fdf8a4b19d57>\u001b[0m in \u001b[0;36m<module>\u001b[0;34m()\u001b[0m\n\u001b[0;32m----> 1\u001b[0;31m \u001b[0mnn\u001b[0m\u001b[0;34m.\u001b[0m\u001b[0mtrain\u001b[0m\u001b[0;34m(\u001b[0m\u001b[0mX\u001b[0m\u001b[0;34m,\u001b[0m \u001b[0my\u001b[0m\u001b[0;34m)\u001b[0m\u001b[0;34m\u001b[0m\u001b[0m\n\u001b[0m",
            "\u001b[0;32m<ipython-input-163-d5c1099dde8e>\u001b[0m in \u001b[0;36mtrain\u001b[0;34m(self, xs, ys)\u001b[0m\n\u001b[1;32m     38\u001b[0m     \u001b[0;32mfor\u001b[0m \u001b[0mi\u001b[0m \u001b[0;32min\u001b[0m \u001b[0mrange\u001b[0m\u001b[0;34m(\u001b[0m\u001b[0;36m5000\u001b[0m\u001b[0;34m)\u001b[0m\u001b[0;34m:\u001b[0m\u001b[0;34m\u001b[0m\u001b[0m\n\u001b[1;32m     39\u001b[0m       \u001b[0;31m# Predict\u001b[0m\u001b[0;34m\u001b[0m\u001b[0;34m\u001b[0m\u001b[0m\n\u001b[0;32m---> 40\u001b[0;31m       \u001b[0moutput\u001b[0m \u001b[0;34m=\u001b[0m \u001b[0mself\u001b[0m\u001b[0;34m.\u001b[0m\u001b[0mpredict\u001b[0m\u001b[0;34m(\u001b[0m\u001b[0mxs\u001b[0m\u001b[0;34m)\u001b[0m\u001b[0;34m\u001b[0m\u001b[0m\n\u001b[0m\u001b[1;32m     41\u001b[0m \u001b[0;34m\u001b[0m\u001b[0m\n\u001b[1;32m     42\u001b[0m       \u001b[0;31m# Calculate the error\u001b[0m\u001b[0;34m\u001b[0m\u001b[0;34m\u001b[0m\u001b[0m\n",
            "\u001b[0;32m<ipython-input-163-d5c1099dde8e>\u001b[0m in \u001b[0;36mpredict\u001b[0;34m(self, inputs)\u001b[0m\n\u001b[1;32m     31\u001b[0m     \u001b[0mprint\u001b[0m\u001b[0;34m(\u001b[0m\u001b[0mtemp\u001b[0m\u001b[0;34m.\u001b[0m\u001b[0mshape\u001b[0m\u001b[0;34m)\u001b[0m\u001b[0;34m\u001b[0m\u001b[0m\n\u001b[1;32m     32\u001b[0m \u001b[0;34m\u001b[0m\u001b[0m\n\u001b[0;32m---> 33\u001b[0;31m     \u001b[0;32mreturn\u001b[0m \u001b[0mself\u001b[0m\u001b[0;34m.\u001b[0m\u001b[0m__sigmoid\u001b[0m\u001b[0;34m(\u001b[0m\u001b[0mnp\u001b[0m\u001b[0;34m.\u001b[0m\u001b[0mdot\u001b[0m\u001b[0;34m(\u001b[0m\u001b[0mtemp\u001b[0m\u001b[0;34m,\u001b[0m \u001b[0mself\u001b[0m\u001b[0;34m.\u001b[0m\u001b[0mweights\u001b[0m\u001b[0;34m[\u001b[0m\u001b[0;36m1\u001b[0m\u001b[0;34m]\u001b[0m\u001b[0;34m)\u001b[0m\u001b[0;34m)\u001b[0m\u001b[0;34m\u001b[0m\u001b[0m\n\u001b[0m\u001b[1;32m     34\u001b[0m \u001b[0;34m\u001b[0m\u001b[0m\n\u001b[1;32m     35\u001b[0m \u001b[0;34m\u001b[0m\u001b[0m\n",
            "\u001b[0;31mValueError\u001b[0m: shapes (4,2) and (3,2) not aligned: 2 (dim 1) != 3 (dim 0)"
          ]
        }
      ]
    },
    {
      "metadata": {
        "id": "SLZ3fPY-FSiF",
        "colab_type": "code",
        "colab": {}
      },
      "cell_type": "code",
      "source": [
        ""
      ],
      "execution_count": 0,
      "outputs": []
    }
  ]
}